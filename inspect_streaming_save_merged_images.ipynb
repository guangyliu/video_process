{
 "cells": [
  {
   "cell_type": "code",
   "execution_count": 1,
   "id": "869eb198-36b0-4496-b3bb-5250acc7c7a5",
   "metadata": {},
   "outputs": [],
   "source": [
    "from streaming import StreamingDataset"
   ]
  },
  {
   "cell_type": "code",
   "execution_count": 2,
   "id": "a96e137d-16db-4c49-b9d7-e74a3c442c1b",
   "metadata": {},
   "outputs": [],
   "source": [
    "data_path = '/home/guangyi.liu/shared-folder/datasets/panda70m_streaming_all_2s_10s_2xframe_ofm1.5_cutnum_aes4.5_forcaption_gpt_v4_cut'\n",
    "dataset = StreamingDataset(remote=data_path)"
   ]
  },
  {
   "cell_type": "code",
   "execution_count": 5,
   "id": "6ce262c8-130d-4291-aa17-89924d4d54e7",
   "metadata": {},
   "outputs": [],
   "source": [
    "from PIL import Image\n",
    "import base64\n",
    "from io import BytesIO\n",
    "\n",
    "def decode_base64_img(img_str):\n",
    "    img_bytes = base64.b64decode(img_str)\n",
    "    \n",
    "    img_buffer = BytesIO(img_bytes)\n",
    "\n",
    "    img = Image.open(img_buffer)\n",
    "    \n",
    "    return img"
   ]
  },
  {
   "cell_type": "code",
   "execution_count": null,
   "id": "56f557fd-f30e-442e-81eb-ae8839d1f110",
   "metadata": {},
   "outputs": [],
   "source": []
  },
  {
   "cell_type": "code",
   "execution_count": 12,
   "id": "29da2fda-d9b4-4d7f-ab1e-833ed988d0a5",
   "metadata": {},
   "outputs": [],
   "source": [
    "\n",
    "# 合并一行中的图片\n",
    "def merge_images_row(image_list, spacing=10):\n",
    "    # 计算总宽度和最大高度\n",
    "    total_width = sum([img.width for img in image_list]) + spacing * (len(image_list) - 1)\n",
    "    max_height = max([img.height for img in image_list])\n",
    "    \n",
    "    # 创建新的图像\n",
    "    new_img = Image.new('RGB', (total_width, max_height), (255, 255, 255))\n",
    "    \n",
    "    x_offset = 0\n",
    "    for img in image_list:\n",
    "        new_img.paste(img, (x_offset, 0))\n",
    "        x_offset += img.width + spacing\n",
    "    \n",
    "    return new_img\n",
    "\n",
    "# 合并所有行\n",
    "def merge_all_rows(dataset, range_list, spacing=10):\n",
    "    rows = []\n",
    "    for i in range_list:\n",
    "        image_list = [decode_base64_img(img_str) for img_str in dataset[i]['image_list']]\n",
    "        row_img = merge_images_row(image_list, spacing)\n",
    "        rows.append(row_img)\n",
    "    \n",
    "    # 计算大图的总宽度和高度\n",
    "    total_height = sum([img.height for img in rows]) + spacing * (len(rows) - 1)\n",
    "    max_width = max([img.width for img in rows])\n",
    "    \n",
    "    # 创建新的大图\n",
    "    new_img = Image.new('RGB', (max_width, total_height), (255, 255, 255))\n",
    "    \n",
    "    y_offset = 0\n",
    "    for row in rows:\n",
    "        new_img.paste(row, (0, y_offset))\n",
    "        y_offset += row.height + spacing\n",
    "    \n",
    "    return new_img\n",
    "\n",
    "# 假设 dataset 是已经定义好的\n",
    "# dataset = ...\n",
    "\n",
    "# # 生成大图\n",
    "# big_image = merge_all_rows(dataset[:20])\n",
    "\n",
    "# # 保存到本地\n",
    "# big_image.save(\"./test.png\")"
   ]
  },
  {
   "cell_type": "code",
   "execution_count": 17,
   "id": "f233b0f5-7a07-491e-a460-e813b24a14f9",
   "metadata": {},
   "outputs": [],
   "source": [
    "\n",
    "# 生成大图\n",
    "big_image = merge_all_rows(dataset,range(1,500,5))\n",
    "\n",
    "# 保存到本地\n",
    "big_image.save(\"./test_gpt4.jpg\", format='JPEG', quality=20)"
   ]
  },
  {
   "cell_type": "code",
   "execution_count": 21,
   "id": "cfda8f23-2f1a-493b-ba85-09ef1acb09ee",
   "metadata": {},
   "outputs": [
    {
     "data": {
      "text/plain": [
       "366"
      ]
     },
     "execution_count": 21,
     "metadata": {},
     "output_type": "execute_result"
    }
   ],
   "source": [
    "list(range(1,500,5))[-27] # [366,486]"
   ]
  },
  {
   "cell_type": "code",
   "execution_count": 8,
   "id": "965ce2f3-e1ac-4c16-b115-6c448f47eede",
   "metadata": {},
   "outputs": [],
   "source": [
    "\n",
    "data_path = '/home/guangyi.liu/shared-folder/datasets/panda70m_llava_caption_streaming_overlap_4'\n",
    "dataset_1 = StreamingDataset(remote=data_path)\n"
   ]
  },
  {
   "cell_type": "code",
   "execution_count": 18,
   "id": "f6017d59-aa8a-4cc8-a845-5ee2cbb8a45f",
   "metadata": {},
   "outputs": [],
   "source": [
    "\n",
    "# 生成大图\n",
    "big_image = merge_all_rows(dataset_1,range(1,500,5))\n",
    "\n",
    "# 保存到本地\n",
    "big_image.save(\"./test_overlap.jpg\", format='JPEG', quality=20)"
   ]
  },
  {
   "cell_type": "code",
   "execution_count": null,
   "id": "fc469a45-d9e9-4cbe-ac9a-ad5723933151",
   "metadata": {},
   "outputs": [],
   "source": [
    "# big_image.save(\"/mnt/data/test.jpg\", format='JPEG', quality=85)"
   ]
  }
 ],
 "metadata": {
  "kernelspec": {
   "display_name": "jiannan",
   "language": "python",
   "name": "jiannan"
  },
  "language_info": {
   "codemirror_mode": {
    "name": "ipython",
    "version": 3
   },
   "file_extension": ".py",
   "mimetype": "text/x-python",
   "name": "python",
   "nbconvert_exporter": "python",
   "pygments_lexer": "ipython3",
   "version": "3.10.0"
  }
 },
 "nbformat": 4,
 "nbformat_minor": 5
}
