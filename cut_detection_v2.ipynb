{
 "cells": [
  {
   "cell_type": "markdown",
   "id": "80ca7855-146b-438b-8e8c-8304aa2bc60b",
   "metadata": {},
   "source": [
    "# Detect Cut in the video"
   ]
  },
  {
   "cell_type": "code",
   "execution_count": 15,
   "id": "f8812655-33b2-445c-a97f-c0a128db90e8",
   "metadata": {},
   "outputs": [],
   "source": [
    "from scenedetect import detect, ContentDetector,ThresholdDetector,AdaptiveDetector,open_video,StatsManager,SceneManager\n",
    "import numpy as np\n",
    "from MyDetector import MyDetector as MyDetector1\n"
   ]
  },
  {
   "cell_type": "code",
   "execution_count": 144,
   "id": "2df8309e-9bad-4e75-9c8f-9ddf18ec553b",
   "metadata": {},
   "outputs": [
    {
     "name": "stdout",
     "output_type": "stream",
     "text": [
      "0000000_00009.mp4\n",
      "\t10.38\t7.51\t47.68\t55.75\t\t3.9\t3.4\t21.9\t21.81\tTrue\n",
      "0000002_00009.mp4\n",
      "\t6.3\t1.76\t24.04\t10.18\t\t3.66\t1.68\t13.04\t8.96\tFalse\n",
      "0000003_00004.mp4\n",
      "\t7.05\t3.82\t27.01\t20.25\t\t1.82\t1.19\t8.78\t6.56\tFalse\n",
      "0000007_00004.mp4\n",
      "\t22.75\t4.9\t81.63\t44.08\t\t14.82\t3.72\t45.45\t30.05\tFalse\n",
      "0000010_00004.mp4\n",
      "\t12.34\t7.39\t49.09\t33.56\t\t3.79\t3.27\t21.15\t14.99\tFalse\n",
      "0000012_00004.mp4\n",
      "\t5.81\t1.65\t22.32\t10.04\t\t2.17\t0.98\t8.07\t5.05\tFalse\n",
      "0000013_00004.mp4\n",
      "\t1.51\t0.82\t7.37\t3.49\t\t0.54\t0.24\t2.76\t1.4\tFalse\n",
      "0000014_00004.mp4\n",
      "\t3.21\t1.28\t13.22\t5.85\t\t0.55\t0.22\t2.66\t1.11\tFalse\n",
      "0000016_00004.mp4\n",
      "\t30.45\t7.35\t108.58\t50.9\t\t16.09\t3.72\t49.27\t24.97\tFalse\n",
      "0000016_00009.mp4\n",
      "\t7.05\t1.78\t26.68\t10.96\t\t2.62\t0.88\t8.86\t4.68\tFalse\n",
      "0000019_00004.mp4\n",
      "\t9.42\t7.43\t46.35\t29.86\t\t2.41\t2.13\t14.09\t8.45\tFalse\n",
      "0000020_00009.mp4\n",
      "\t10.02\t2.14\t37.06\t14.26\t\t3.45\t0.74\t11.36\t4.93\tFalse\n",
      "0000021_00009.mp4\n",
      "\t3.7\t0.96\t14.93\t5.53\t\t0.62\t0.12\t2.85\t0.82\tFalse\n",
      "0000022_00004.mp4\n",
      "\t6.28\t2.79\t23.97\t19.24\t\t0.92\t0.73\t5.58\t4.86\tFalse\n",
      "0000023_00004.mp4\n",
      "\t39.5\t4.25\t140.25\t53.24\t\t12.69\t1.33\t39.07\t15.33\tFalse\n",
      "0000024_00004.mp4\n",
      "\t12.71\t2.68\t46.49\t21.46\t\t4.21\t1.16\t13.62\t6.13\tFalse\n",
      "0000024_00009.mp4\n",
      "\t43.72\t21.04\t155.02\t112.35\t\t22.84\t8.89\t69.53\t48.65\tFalse\n",
      "0000025_00004.mp4\n",
      "\t24.36\t10.98\t87.26\t79.17\t\t6.27\t3.29\t23.73\t20.8\tFalse\n",
      "0000025_00009.mp4\n",
      "\t26.78\t16.75\t107.49\t95.81\t\t8.23\t6.9\t43.74\t32.64\tFalse\n",
      "0000027_00004.mp4\n",
      "\t17.62\t9.52\t64.35\t60.6\t\t5.82\t3.71\t25.38\t20.16\tFalse\n",
      "0000030_00004.mp4\n",
      "\t26.68\t7.58\t95.36\t48.74\t\t4.33\t2.01\t15.39\t12.12\tFalse\n",
      "0000031_00004.mp4\n",
      "\t18.02\t5.38\t65.08\t32.55\t\t12.33\t3.74\t37.99\t21.43\tFalse\n",
      "0000031_00009.mp4\n",
      "\t12.87\t3.93\t47.05\t25.48\t\t7.02\t2.54\t22.07\t14.46\tFalse\n",
      "0000033_00004.mp4\n",
      "\t21.37\t12.82\t83.64\t64.83\t\t14.8\t8.11\t56.34\t31.75\tFalse\n",
      "0000033_00009.mp4\n",
      "\t12.81\t8.78\t56.06\t82.11\t\t5.14\t4.09\t26.58\t28.76\tTrue\n",
      "0000034_00004.mp4\n",
      "\t10.57\t3.25\t38.99\t19.83\t\t2.88\t1.08\t9.63\t5.51\tFalse\n",
      "0000034_00009.mp4\n",
      "\t3.41\t3.95\t23.97\t21.29\t\t1.62\t3.36\t19.44\t16.76\tTrue\n",
      "0000035_00004.mp4\n",
      "\t25.22\t4.11\t90.29\t30.24\t\t18.18\t3.03\t55.54\t26.83\tFalse\n",
      "0000035_00009.mp4\n",
      "\t20.8\t3.62\t74.81\t33.97\t\t9.61\t2.62\t29.83\t17.5\tFalse\n",
      "0000036_00004.mp4\n",
      "\t7.05\t2.92\t26.67\t13.52\t\t2.13\t1.21\t9.18\t4.99\tFalse\n",
      "0000038_00004.mp4\n",
      "\t8.69\t1.37\t32.4\t12.31\t\t5.23\t1.08\t16.69\t8.52\tFalse\n",
      "0000041_00004.mp4\n",
      "\t44.63\t14.67\t158.21\t76.98\t\t15.13\t4.24\t46.4\t22.88\tFalse\n",
      "0000041_00009.mp4\n",
      "\t19.66\t6.34\t70.81\t34.48\t\t3.81\t1.55\t12.57\t7.25\tFalse\n",
      "0000044_00004.mp4\n",
      "\t32.51\t6.0\t115.77\t42.67\t\t10.57\t1.68\t32.71\t14.96\tFalse\n",
      "0000044_00009.mp4\n",
      "\t22.71\t13.22\t86.84\t53.78\t\t13.62\t0.37\t41.85\t14.37\tFalse\n"
     ]
    },
    {
     "name": "stderr",
     "output_type": "stream",
     "text": [
      "[h264 @ 0x5602d80] mmco: unref short failure\n",
      "[h264 @ 0x5602d80] mmco: unref short failure\n"
     ]
    },
    {
     "name": "stdout",
     "output_type": "stream",
     "text": [
      "0000045_00004.mp4\n",
      "\t8.65\t8.41\t50.18\t44.98\t\t2.8\t3.75\t22.52\t17.41\tFalse\n",
      "0000050_00004.mp4\n",
      "\t9.22\t6.3\t40.82\t23.67\t\t2.94\t2.31\t15.5\t8.3\tFalse\n",
      "0000054_00009.mp4\n",
      "\t22.52\t5.54\t80.81\t29.83\t\t6.27\t1.52\t19.82\t8.72\tFalse\n",
      "0000055_00004.mp4\n",
      "\t18.56\t5.29\t66.97\t30.15\t\t5.89\t2.21\t18.68\t12.71\tFalse\n",
      "0000057_00004.mp4\n",
      "\t4.5\t1.35\t17.73\t8.72\t\t0.91\t0.32\t3.73\t1.65\tFalse\n",
      "0000057_00009.mp4\n",
      "\t20.52\t9.37\t73.83\t41.89\t\t4.8\t2.41\t17.84\t10.69\tFalse\n",
      "0000058_00004.mp4\n",
      "\t10.97\t2.29\t40.4\t16.21\t\t2.46\t0.98\t8.38\t4.68\tFalse\n",
      "0000060_00004.mp4\n",
      "\t21.94\t11.1\t78.79\t74.73\t\t7.23\t4.15\t28.96\t28.96\tFalse\n",
      "0000060_00009.mp4\n",
      "\t11.47\t5.81\t42.14\t32.23\t\t3.64\t1.5\t12.12\t8.3\tFalse\n",
      "3 ['0000000_00009.mp4', '0000033_00009.mp4', '0000034_00009.mp4']\n",
      "0.06818181818181818\n"
     ]
    }
   ],
   "source": [
    "root_path = '/home/guangyi.liu/repo/video_process/mp4_noncut'\n",
    "files = os.listdir(root_path)\n",
    "files.sort()\n",
    "import os\n",
    "cut_list = []\n",
    "static_list =[]\n",
    "results_list = {'mp4':[],'de_mean':[],'de_std':[],'dl_mean':[],'dl_std':[]}\n",
    "x_list = []\n",
    "y = []\n",
    "for mp4_file in files:\n",
    "    if '.mp4' in mp4_file[-4:]:\n",
    "        # print(mp4_file)\n",
    "        mp4file = os.path.join(root_path, mp4_file)\n",
    "        video = open_video(mp4file)\n",
    "        video.seek(1)\n",
    "        stats_manager = StatsManager()\n",
    "        scene_manager = SceneManager(stats_manager)\n",
    "        # scene_manager.auto_downscale=True\n",
    "        # scene_manager.downscale = 1\n",
    "        scene_manager.add_detector(ContentDetector(threshold=27))\n",
    "        \n",
    "        scene_manager.detect_scenes(video=video)\n",
    "        stats_manager._frame_metrics\n",
    "        frame_keys = stats_manager._frame_metrics.keys()\n",
    "        delta_edges = []\n",
    "        delta_lums = []\n",
    "        for key in frame_keys:\n",
    "            delta_edges.append(stats_manager._frame_metrics[key]['delta_edges'])\n",
    "            delta_lums.append(stats_manager._frame_metrics[key]['delta_lum'])\n",
    "        de_mean = np.mean(delta_edges)\n",
    "        de_std = np.std(delta_edges)\n",
    "        dl_mean = np.mean(delta_lums)\n",
    "        dl_std = np.std(delta_lums)\n",
    "        de_upper_bound = max(de_mean + 4.7 * de_std, 3.5* de_mean) + 2\n",
    "        dl_upper_bound = max(dl_mean + 5* dl_std, 3.* dl_mean)+ 1\n",
    "        total_cut_de = np.sum(np.array(delta_edges) > de_upper_bound )\n",
    "        total_cut_dl = np.sum(np.array(delta_lums) > dl_upper_bound   )\n",
    "        results_list['mp4'].append(mp4_file)\n",
    "        results_list['de_mean'].append(round(de_mean,2))\n",
    "        results_list['dl_mean'].append(round(dl_mean,2))\n",
    "        results_list['de_std'].append(round(de_std,2))\n",
    "        results_list['dl_std'].append(round(dl_std,2))\n",
    "        print(f'{mp4_file}\\n\\t{round(de_mean,2)}\\t{round(de_std,2)}\\t{round(de_upper_bound,2)}\\t{round(np.max(delta_edges),2)}\\t\\t{round(dl_mean,2)}\\t{round(dl_std,2)}\\t{round(dl_upper_bound,2)}\\t{round(np.max(delta_lums),2)}\\t{total_cut_de> 0 or total_cut_dl >0 or (dl_mean > 9 and dl_std>9) or (dl_mean< dl_std and de_mean < de_std)}')\n",
    "        x_list.append([de_mean,de_std,np.max(delta_edges), dl_mean, dl_std, np.max(delta_lums)])\n",
    "        y.append(0)\n",
    "        if dl_mean < .5 and dl_std < 0.5 :\n",
    "            static_list.append(mp4_file)\n",
    "        elif de_mean < 0.6 and de_std < 0.6:\n",
    "            static_list.append(mp4_file)\n",
    "        if total_cut_de> 0 or total_cut_dl >0 or (dl_mean > 9 and dl_std>9) or (dl_mean< dl_std and de_mean < de_std):\n",
    "            cut_list.append(mp4_file)\n",
    "        stats_manager.save_to_csv(f'{root_path}/{mp4_file}.csv')\n",
    "        # if '22_00004' in mp4_file:\n",
    "        #     import ipdb\n",
    "        #     ipdb.set_trace()\n",
    "print(len(cut_list),cut_list)\n",
    "print(len(cut_list)/len(results_list['mp4']))"
   ]
  },
  {
   "cell_type": "code",
   "execution_count": 145,
   "id": "cc007622-4b50-4dc0-be31-8f34f70d231f",
   "metadata": {},
   "outputs": [
    {
     "data": {
      "text/plain": [
       "[]"
      ]
     },
     "execution_count": 145,
     "metadata": {},
     "output_type": "execute_result"
    }
   ],
   "source": [
    "static_list"
   ]
  },
  {
   "cell_type": "code",
   "execution_count": 142,
   "id": "ec685d93-9100-403e-88dc-176eb8487793",
   "metadata": {},
   "outputs": [
    {
     "name": "stdout",
     "output_type": "stream",
     "text": [
      "0000000_00004.mp4\n",
      "\t10.54\t3.42\t38.9\t46.22\t\t5.38\t2.38\t18.26\t29.08\tTrue\n",
      "0000001_00004.mp4\n",
      "\t13.69\t6.46\t49.91\t48.5\t\t4.98\t3.57\t23.83\t39.94\tTrue\n",
      "0000001_00009.mp4\n",
      "\t19.58\t10.74\t72.07\t125.11\t\t8.18\t5.98\t39.1\t78.36\tTrue\n",
      "0000002_00004.mp4\n",
      "\t0.76\t3.36\t18.54\t38.83\t\t0.36\t2.24\t12.55\t24.41\tTrue\n",
      "0000004_00004.mp4\n",
      "\t0.08\t0.53\t4.58\t8.13\t\t0.1\t1.46\t8.38\t24.14\tTrue\n",
      "0000004_00009.mp4\n",
      "\t0.2\t1.18\t7.75\t12.42\t\t0.24\t2.03\t11.38\t23.04\tTrue\n",
      "0000005_00004.mp4\n",
      "\t19.01\t11.74\t76.19\t85.84\t\t7.27\t5.01\t33.32\t35.98\tTrue\n",
      "0000005_00009.mp4\n",
      "\t8.28\t7.03\t43.32\t76.37\t\t2.7\t2.78\t17.58\t38.24\tTrue\n",
      "0000007_00009.mp4\n",
      "\t22.77\t14.15\t91.26\t53.48\t\t13.26\t6.57\t47.09\t28.48\tFalse\n",
      "0000009_00004.mp4\n",
      "\t4.64\t1.86\t18.23\t11.24\t\t2.0\t0.74\t7.01\t4.29\tFalse\n",
      "0000009_00009.mp4\n",
      "\t17.13\t14.06\t85.22\t175.53\t\t6.58\t4.74\t31.28\t19.3\tTrue\n",
      "0000011_00009.mp4\n",
      "\t12.59\t10.98\t66.22\t131.21\t\t4.99\t4.79\t29.93\t52.79\tTrue\n",
      "0000013_00009.mp4\n",
      "\t9.38\t17.31\t92.76\t71.62\t\t3.77\t7.76\t43.59\t42.24\tTrue\n",
      "0000017_00004.mp4\n",
      "\t0.27\t1.9\t11.18\t32.93\t\t0.08\t0.35\t2.85\t2.75\tTrue\n",
      "0000018_00004.mp4\n",
      "\t4.31\t3.47\t22.6\t44.51\t\t1.48\t1.69\t10.92\t28.61\tTrue\n",
      "0000018_00009.mp4\n",
      "\t10.38\t7.13\t45.87\t48.37\t\t2.96\t3.73\t22.59\t36.85\tTrue\n",
      "0000020_00004.mp4\n",
      "\t24.97\t16.14\t102.85\t78.41\t\t12.47\t12.15\t74.23\t51.25\tTrue\n",
      "0000021_00004.mp4\n",
      "\t4.23\t1.8\t16.79\t12.02\t\t0.8\t0.68\t5.18\t7.21\tTrue\n",
      "0000023_00009.mp4\n",
      "\t18.0\t9.29\t64.99\t108.09\t\t7.78\t6.03\t38.95\t69.76\tTrue\n",
      "0000028_00004.mp4\n",
      "\t5.94\t10.26\t56.15\t95.36\t\t3.0\t6.69\t37.48\t60.59\tTrue\n",
      "0000028_00009.mp4\n",
      "\t20.47\t18.17\t107.89\t130.5\t\t13.87\t18.9\t109.39\t138.72\tTrue\n"
     ]
    },
    {
     "name": "stderr",
     "output_type": "stream",
     "text": [
      "[h264 @ 0x691f5c0] mmco: unref short failure\n",
      "[h264 @ 0x691f5c0] mmco: unref short failure\n",
      "[h264 @ 0x691f5c0] mmco: unref short failure\n",
      "[h264 @ 0x691f5c0] mmco: unref short failure\n"
     ]
    },
    {
     "name": "stdout",
     "output_type": "stream",
     "text": [
      "0000029_00004.mp4\n",
      "\t5.7\t13.48\t71.08\t135.61\t\t3.16\t6.38\t36.08\t58.33\tTrue\n",
      "0000029_00009.mp4\n",
      "\t22.5\t26.68\t149.89\t111.76\t\t9.56\t10.92\t65.18\t44.17\tTrue\n",
      "0000030_00009.mp4\n",
      "\t20.46\t27.86\t153.43\t118.87\t\t13.81\t20.56\t117.62\t87.59\tTrue\n",
      "0000036_00009.mp4\n",
      "\t8.98\t12.37\t69.12\t80.34\t\t3.1\t5.49\t31.53\t28.68\tTrue\n",
      "0000039_00004.mp4\n",
      "\t3.63\t6.81\t37.65\t63.37\t\t1.07\t0.46\t4.37\t2.76\tTrue\n",
      "0000043_00004.mp4\n",
      "\t0.39\t1.78\t10.78\t28.12\t\t0.1\t0.67\t4.46\t9.57\tTrue\n",
      "0000045_00009.mp4\n",
      "\t8.65\t8.96\t52.74\t40.89\t\t3.38\t4.51\t26.92\t26.5\tTrue\n",
      "0000046_00004.mp4\n",
      "\t7.1\t8.6\t49.52\t60.61\t\t2.11\t2.86\t17.39\t16.58\tTrue\n",
      "0000049_00004.mp4\n",
      "\t42.29\t16.58\t150.0\t82.18\t\t37.71\t19.47\t136.08\t91.41\tTrue\n",
      "0000049_00009.mp4\n",
      "\t34.0\t17.31\t121.0\t114.95\t\t4.8\t4.34\t27.47\t26.64\tFalse\n",
      "0000050_00009.mp4\n",
      "\t13.58\t19.51\t107.26\t124.95\t\t4.49\t9.91\t55.03\t61.33\tTrue\n",
      "0000052_00004.mp4\n",
      "\t15.82\t21.32\t118.02\t216.76\t\t3.77\t1.18\t12.3\t6.72\tTrue\n",
      "0000052_00009.mp4\n",
      "\t23.38\t10.63\t83.83\t71.33\t\t15.25\t4.12\t46.75\t25.37\tFalse\n",
      "0000054_00004.mp4\n",
      "\t6.62\t6.5\t39.17\t64.57\t\t1.39\t1.29\t8.83\t10.79\tTrue\n",
      "0000058_00009.mp4\n",
      "\t20.88\t14.78\t92.35\t49.74\t\t8.68\t8.12\t50.31\t23.87\tFalse\n",
      "31 ['0000000_00004.mp4', '0000001_00004.mp4', '0000001_00009.mp4', '0000002_00004.mp4', '0000004_00004.mp4', '0000004_00009.mp4', '0000005_00004.mp4', '0000005_00009.mp4', '0000009_00009.mp4', '0000011_00009.mp4', '0000013_00009.mp4', '0000017_00004.mp4', '0000018_00004.mp4', '0000018_00009.mp4', '0000020_00004.mp4', '0000021_00004.mp4', '0000023_00009.mp4', '0000028_00004.mp4', '0000028_00009.mp4', '0000029_00004.mp4', '0000029_00009.mp4', '0000030_00009.mp4', '0000036_00009.mp4', '0000039_00004.mp4', '0000043_00004.mp4', '0000045_00009.mp4', '0000046_00004.mp4', '0000049_00004.mp4', '0000050_00009.mp4', '0000052_00004.mp4', '0000054_00004.mp4']\n",
      "0.8611111111111112\n"
     ]
    }
   ],
   "source": [
    "root_path = '/home/guangyi.liu/repo/video_process/mp4_cut'\n",
    "files = os.listdir(root_path)\n",
    "files.sort()\n",
    "import os\n",
    "cut_list = []\n",
    "static_list =[]\n",
    "results_list = {'mp4':[],'de_mean':[],'de_std':[],'dl_mean':[],'dl_std':[]}\n",
    "for mp4_file in files:\n",
    "    if '.mp4' in mp4_file[-4:]:\n",
    "        # print(mp4_file)\n",
    "        mp4file = os.path.join(root_path, mp4_file)\n",
    "        video = open_video(mp4file)\n",
    "        video.seek(1)\n",
    "        stats_manager = StatsManager()\n",
    "        scene_manager = SceneManager(stats_manager)\n",
    "        # scene_manager.auto_downscale=True\n",
    "        # scene_manager.downscale = 1\n",
    "        scene_manager.add_detector(ContentDetector(threshold=27))\n",
    "        \n",
    "        scene_manager.detect_scenes(video=video)\n",
    "        stats_manager._frame_metrics\n",
    "        frame_keys = stats_manager._frame_metrics.keys()\n",
    "        delta_edges = []\n",
    "        delta_lums = []\n",
    "        for key in frame_keys:\n",
    "            delta_edges.append(stats_manager._frame_metrics[key]['delta_edges'])\n",
    "            delta_lums.append(stats_manager._frame_metrics[key]['delta_lum'])\n",
    "        de_mean = np.mean(delta_edges)\n",
    "        de_std = np.std(delta_edges)\n",
    "        dl_mean = np.mean(delta_lums)\n",
    "        dl_std = np.std(delta_lums)\n",
    "        de_upper_bound = max(de_mean + 4.7 * de_std, 3.5* de_mean)+2\n",
    "        dl_upper_bound = max(dl_mean + 5* dl_std, 3.* dl_mean)+1\n",
    "        total_cut_de = np.sum(np.array(delta_edges) > de_upper_bound )\n",
    "        total_cut_dl = np.sum(np.array(delta_lums) > dl_upper_bound   )\n",
    "        results_list['mp4'].append(mp4_file)\n",
    "        results_list['de_mean'].append(round(de_mean,2))\n",
    "        results_list['dl_mean'].append(round(dl_mean,2))\n",
    "        results_list['de_std'].append(round(de_std,2))\n",
    "        results_list['dl_std'].append(round(dl_std,2))\n",
    "        # print(mp4_file,'\\n\\t',round(de_mean,2),round(de_std,2),round(de_upper_bound,2),round(np.max(delta_edges),2),'\\t\\t',round(dl_mean,2),round(dl_std,2),round(dl_upper_bound,2),round(np.max(delta_lums),2),total_cut_de> 0 or total_cut_dl >0 or (dl_mean > 9 and dl_std>9) )\n",
    "        print(f'{mp4_file}\\n\\t{round(de_mean,2)}\\t{round(de_std,2)}\\t{round(de_upper_bound,2)}\\t{round(np.max(delta_edges),2)}\\t\\t{round(dl_mean,2)}\\t{round(dl_std,2)}\\t{round(dl_upper_bound,2)}\\t{round(np.max(delta_lums),2)}\\t{total_cut_de> 0 or total_cut_dl >0 or (dl_mean > 9 and dl_std>9)or (dl_mean< dl_std and de_mean < de_std)}')\n",
    "        x_list.append([de_mean,de_std,np.max(delta_edges), dl_mean, dl_std, np.max(delta_lums)])\n",
    "        y.append(1)\n",
    "        if dl_mean < .5 and dl_std < 0.5 :\n",
    "            static_list.append(mp4_file)\n",
    "        elif de_mean < 0.6 and de_std < 0.6:\n",
    "            static_list.append(mp4_file)\n",
    "        if total_cut_de> 0 or total_cut_dl >0 or (dl_mean > 9 and dl_std>9) or (dl_mean< dl_std and de_mean < de_std):\n",
    "            cut_list.append(mp4_file)\n",
    "        stats_manager.save_to_csv(f'{root_path}/{mp4_file}.csv')\n",
    "print(len(cut_list),cut_list)\n",
    "print(len(cut_list)/len(results_list['mp4']))"
   ]
  },
  {
   "cell_type": "code",
   "execution_count": 143,
   "id": "2d102c26-5a09-4713-8c90-3c79a3c567d0",
   "metadata": {},
   "outputs": [
    {
     "data": {
      "text/plain": [
       "['0000004_00004.mp4', '0000017_00004.mp4']"
      ]
     },
     "execution_count": 143,
     "metadata": {},
     "output_type": "execute_result"
    }
   ],
   "source": [
    "static_list"
   ]
  },
  {
   "cell_type": "code",
   "execution_count": 102,
   "id": "d9f5b8e5-2620-4f69-90b1-fb65b5f870cf",
   "metadata": {},
   "outputs": [
    {
     "name": "stdout",
     "output_type": "stream",
     "text": [
      "Test set accuracy: 0.8125\n",
      "Precision: 0.5000\n",
      "Recall: 1.0000\n"
     ]
    }
   ],
   "source": [
    "import numpy as np\n",
    "\n",
    "# 假设有 5 个样本，每个样本有 4 个浮点数特征\n",
    "X = np.array(x_list)\n",
    "y = np.array(y)\n",
    "from sklearn.model_selection import train_test_split\n",
    "from sklearn.linear_model import LogisticRegression\n",
    "from sklearn.metrics import accuracy_score\n",
    "\n",
    "# 假设 X 是你的输入特征，y 是标签\n",
    "# 将数据分为训练集和测试集\n",
    "X_train, X_test1, y_train, y_test1 = train_test_split(X, y, test_size=0.2, random_state=42)\n",
    "\n",
    "\n",
    "# # 假设 X 和 y 已经准备好\n",
    "# X_train, X_test, y_train, y_test = train_test_split(X, y, test_size=0.2, random_state=42)\n",
    "\n",
    "\n",
    "\n",
    "# 创建并训练逻辑回归模型\n",
    "model = LogisticRegression(class_weight={0: 1, 1: 2})\n",
    "model.fit(X_train, y_train)\n",
    "\n",
    "# # 预测测试集\n",
    "# y_pred = model.predict(X_test1)\n",
    "\n",
    "# 获取模型对测试集的预测概率\n",
    "y_prob = model.predict_proba(X_test1)[:, 1]\n",
    "\n",
    "# 调整阈值，例如使用 0.7 而不是 0.5\n",
    "threshold = 0.5\n",
    "y_pred = (y_prob >= threshold).astype(int)\n",
    "\n",
    "\n",
    "\n",
    "# 计算准确率\n",
    "accuracy = accuracy_score(y_test1, y_pred)\n",
    "print(f\"Test set accuracy: {accuracy:.4f}\")\n",
    "from sklearn.metrics import precision_score, recall_score\n",
    "\n",
    "# 假设 y_test1 是真实标签，y_pred 是模型预测的标签\n",
    "# 计算精确率\n",
    "precision = precision_score(y_test1, y_pred)\n",
    "\n",
    "# 计算召回率\n",
    "recall = recall_score(y_test1, y_pred)\n",
    "\n",
    "print(f\"Precision: {precision:.4f}\")\n",
    "print(f\"Recall: {recall:.4f}\")\n"
   ]
  },
  {
   "cell_type": "code",
   "execution_count": 103,
   "id": "3721e685-988d-4834-95b2-d692adb6be19",
   "metadata": {},
   "outputs": [
    {
     "data": {
      "text/plain": [
       "array([0, 0, 0, 0, 0, 0, 0, 1, 0, 0, 0, 0, 1, 0, 1, 0])"
      ]
     },
     "execution_count": 103,
     "metadata": {},
     "output_type": "execute_result"
    }
   ],
   "source": [
    "y_test1"
   ]
  },
  {
   "cell_type": "code",
   "execution_count": 104,
   "id": "a6e4ccbd-83ca-4ad1-b5e0-3c6f8a788b46",
   "metadata": {},
   "outputs": [
    {
     "data": {
      "text/plain": [
       "array([0, 1, 1, 0, 1, 0, 0, 1, 0, 0, 0, 0, 1, 0, 1, 0])"
      ]
     },
     "execution_count": 104,
     "metadata": {},
     "output_type": "execute_result"
    }
   ],
   "source": [
    "y_pred"
   ]
  },
  {
   "cell_type": "code",
   "execution_count": 105,
   "id": "54a8bf60-c4f7-42d2-a91a-7df61d4f0d0c",
   "metadata": {
    "scrolled": true
   },
   "outputs": [
    {
     "name": "stdout",
     "output_type": "stream",
     "text": [
      "0000061_00004.mp4 \n",
      "\t 16.9 12.8 77.07 93.05 \t\t 3.03 3.95 23 23.9\n",
      "0000062_00004.mp4 \n",
      "\t 17.82 10.42 66.8 38.54 \t\t 5.07 2.83 19 9.5\n",
      "0000062_00009.mp4 \n",
      "\t 9.82 6.78 41.7 52.38 \t\t 0.75 0.47 3 1.56\n",
      "0000065_00004.mp4 \n",
      "\t 4.32 3.25 19.58 14.69 \t\t 1.36 1.14 7 5.37\n",
      "0000066_00004.mp4 \n",
      "\t 2.44 1.0 7.32 8.91 \t\t 0.73 0.32 2 3.08\n",
      "0000067_00004.mp4 \n",
      "\t 46.01 18.79 138.02 97.76 \t\t 21.46 8.11 64 45.0\n",
      "0000067_00009.mp4 \n",
      "\t 32.29 3.2 96.86 36.25 \t\t 6.22 1.11 19 7.92\n",
      "0000068_00004.mp4 \n",
      "\t 3.62 3.93 22.11 25.54 \t\t 1.89 2.04 12 11.14\n",
      "0000068_00009.mp4 \n",
      "\t 3.54 2.86 16.96 11.8 \t\t 2.54 2.1 13 8.25\n",
      "0000069_00004.mp4 \n",
      "\t 22.54 10.74 73.02 50.25 \t\t 8.71 4.21 30 21.47\n",
      "0000069_00009.mp4 \n",
      "\t 11.56 3.72 34.67 24.64 \t\t 5.28 1.96 16 11.18\n",
      "0000070_00004.mp4 \n",
      "\t 19.08 8.09 57.25 48.03 \t\t 6.5 3.54 24 17.49\n",
      "0000070_00009.mp4 \n",
      "\t 4.94 1.43 14.81 10.72 \t\t 1.29 0.44 4 3.18\n",
      "0000071_00004.mp4 \n",
      "\t 1.45 3.18 16.41 66.25 \t\t 0.62 1.78 10 25.21\n",
      "0000071_00009.mp4 \n",
      "\t 1.63 5.6 27.93 116.61 \t\t 0.7 2.6 14 39.08\n",
      "0000072_00004.mp4 \n",
      "\t 14.96 8.24 53.69 54.58 \t\t 9.08 3.88 28 23.1\n",
      "0000072_00009.mp4 \n",
      "\t 44.76 7.4 134.28 69.5 \t\t 14.53 2.58 44 22.86\n",
      "0000073_00004.mp4 \n",
      "\t 3.84 9.27 47.42 67.06 \t\t 1.23 4.09 22 27.52\n",
      "0000073_00009.mp4 \n",
      "\t 35.45 6.06 106.34 45.67 \t\t 9.36 2.19 28 13.07\n",
      "0000074_00004.mp4 \n",
      "\t 6.78 3.01 20.91 18.02 \t\t 3.15 1.56 11 9.33\n",
      "0000074_00009.mp4 \n",
      "\t 8.09 5.02 31.68 36.6 \t\t 4.85 4.26 26 16.25\n",
      "0000077_00004.mp4 \n",
      "\t 1.36 0.57 4.08 2.36 \t\t 0.63 0.2 2 1.07\n",
      "0000078_00004.mp4 \n",
      "\t 6.49 2.65 19.47 15.4 \t\t 1.53 0.73 5 3.74\n",
      "0000078_00009.mp4 \n",
      "\t 13.14 3.74 39.41 23.43 \t\t 3.59 1.39 11 6.53\n",
      "0000083_00004.mp4 \n",
      "\t 8.18 10.38 56.96 40.04 \t\t 3.79 3.9 23 16.52\n",
      "0000085_00004.mp4 \n",
      "\t 10.97 4.97 34.34 43.96 \t\t 2.83 1.82 12 19.36\n",
      "0000086_00004.mp4 \n",
      "\t 3.4 5.08 27.27 35.26 \t\t 1.49 2.08 12 7.85\n",
      "0000087_00004.mp4 \n",
      "\t 1.8 2.26 12.42 18.18 \t\t 4.28 7.7 43 72.92\n",
      "0000087_00009.mp4 \n",
      "\t 1.41 0.75 4.93 4.01 \t\t 9.14 4.33 31 18.27\n",
      "0000088_00004.mp4 \n",
      "\t 10.45 4.53 31.72 24.16 \t\t 5.41 1.65 16 11.66\n",
      "0000088_00009.mp4 \n",
      "\t 16.59 7.26 50.72 42.01 \t\t 8.2 2.82 25 14.78\n",
      "0000089_00004.mp4 \n",
      "\t 3.09 5.8 30.35 40.29 \t\t 1.04 2.0 11 10.82\n",
      "0000089_00009.mp4 \n",
      "\t 26.47 26.91 152.97 114.74 \t\t 5.76 7.96 46 74.1\n",
      "0000090_00004.mp4 \n",
      "\t 21.94 18.42 108.53 53.56 \t\t 6.76 5.49 34 14.45\n",
      "0000090_00009.mp4 \n",
      "\t 9.79 5.75 36.79 19.47 \t\t 1.74 1.3 8 4.77\n",
      "0000091_00004.mp4 \n",
      "\t 5.93 6.61 36.98 23.25 \t\t 4.37 5.11 30 14.03\n",
      "0000092_00004.mp4 \n",
      "\t 4.57 2.1 14.45 9.17 \t\t 4.32 2.38 16 8.57\n",
      "0000097_00004.mp4 \n",
      "\t 4.43 2.77 17.46 13.19 \t\t 1.24 0.91 6 4.27\n",
      "0000097_00009.mp4 \n",
      "\t 4.87 5.65 31.43 18.7 \t\t 2.3 2.52 15 8.42\n",
      "0000098_00004.mp4 \n",
      "\t 23.13 11.18 75.66 60.95 \t\t 6.8 4.87 31 27.79\n",
      "0000098_00009.mp4 \n",
      "\t 55.25 16.1 165.76 112.7 \t\t 25.36 7.15 76 49.08\n",
      "0000099_00004.mp4 \n",
      "\t 14.63 5.45 43.88 37.01 \t\t 3.23 2.0 13 16.14\n",
      "0000099_00009.mp4 \n",
      "\t 4.92 4.98 28.35 49.09 \t\t 28.53 10.39 86 71.51\n",
      "16 ['0000061_00004.mp4', '0000062_00009.mp4', '0000066_00004.mp4', '0000068_00004.mp4', '0000071_00004.mp4', '0000071_00009.mp4', '0000072_00004.mp4', '0000073_00004.mp4', '0000074_00009.mp4', '0000085_00004.mp4', '0000086_00004.mp4', '0000087_00004.mp4', '0000089_00004.mp4', '0000089_00009.mp4', '0000099_00004.mp4', '0000099_00009.mp4']\n"
     ]
    }
   ],
   "source": [
    "root_path = '/home/guangyi.liu/repo/video_process/no_classified'\n",
    "files = os.listdir(root_path)\n",
    "files.sort()\n",
    "import os\n",
    "cut_list = []\n",
    "static_list =[]\n",
    "x_test = []\n",
    "# y_test = []\n",
    "results_list = {'mp4':[],'de_mean':[],'de_std':[],'dl_mean':[],'dl_std':[]}\n",
    "for mp4_file in files:\n",
    "    if '.mp4' in mp4_file[-4:]:\n",
    "        # print(mp4_file)\n",
    "        mp4file = os.path.join(root_path, mp4_file)\n",
    "        video = open_video(mp4file)\n",
    "        video.seek(1)\n",
    "        stats_manager = StatsManager()\n",
    "        scene_manager = SceneManager(stats_manager)\n",
    "        # scene_manager.auto_downscale=True\n",
    "        # scene_manager.downscale = 1\n",
    "        scene_manager.add_detector(ContentDetector(threshold=27))\n",
    "        \n",
    "        scene_manager.detect_scenes(video=video)\n",
    "        stats_manager._frame_metrics\n",
    "        frame_keys = stats_manager._frame_metrics.keys()\n",
    "        delta_edges = []\n",
    "        delta_lums = []\n",
    "        for key in frame_keys:\n",
    "            delta_edges.append(stats_manager._frame_metrics[key]['delta_edges'])\n",
    "            delta_lums.append(stats_manager._frame_metrics[key]['delta_lum'])\n",
    "        de_mean = np.mean(delta_edges)\n",
    "        de_std = np.std(delta_edges)\n",
    "        dl_mean = np.mean(delta_lums)\n",
    "        dl_std = np.std(delta_lums)\n",
    "        de_upper_bound = max(de_mean + 4.7 * de_std, 3.* de_mean)\n",
    "        dl_upper_bound = max(dl_mean + 5* dl_std, 3.* dl_mean)\n",
    "        total_cut_de = np.sum(np.array(delta_edges) > de_upper_bound )\n",
    "        total_cut_dl = np.sum(np.array(delta_lums) > dl_upper_bound   )\n",
    "        results_list['mp4'].append(mp4_file)\n",
    "        results_list['de_mean'].append(round(de_mean,2))\n",
    "        results_list['dl_mean'].append(round(dl_mean,2))\n",
    "        results_list['de_std'].append(round(de_std,2))\n",
    "        results_list['dl_std'].append(round(dl_std,2))\n",
    "        print(mp4_file,'\\n\\t',round(de_mean,2),round(de_std,2),round(de_upper_bound,2),round(np.max(delta_edges),2),'\\t\\t',round(dl_mean,2),round(dl_std,2),round(dl_upper_bound),round(np.max(delta_lums),2))\n",
    "        x_test.append([de_mean,de_std,np.max(delta_edges), dl_mean, dl_std, np.max(delta_lums)])\n",
    "        # y_test.append(1)\n",
    "        if dl_mean < .5 and dl_std < 0.5 :\n",
    "            static_list.append(mp4_file)\n",
    "        elif de_mean < 0.6 and de_std < 0.6:\n",
    "            static_list.append(mp4_file)\n",
    "        if total_cut_de> 0 or total_cut_dl >0 or (dl_mean > 9 and dl_std>9) :\n",
    "            cut_list.append(mp4_file)\n",
    "        stats_manager.save_to_csv(f'{root_path}/{mp4_file}.csv')\n",
    "print(len(cut_list),cut_list)"
   ]
  },
  {
   "cell_type": "code",
   "execution_count": 113,
   "id": "499b0ca7-8ac3-430b-84ea-69b988aa5f40",
   "metadata": {},
   "outputs": [
    {
     "name": "stdout",
     "output_type": "stream",
     "text": [
      "0000061_00004.mp4 1 0.86\n",
      "0000062_00004.mp4 0 0.3\n",
      "0000062_00009.mp4 0 0.42\n",
      "0000065_00004.mp4 0 0.32\n",
      "0000066_00004.mp4 0 0.24\n",
      "0000067_00004.mp4 0 0.3\n",
      "0000067_00009.mp4 0 0.0\n",
      "0000068_00004.mp4 1 0.5\n",
      "0000068_00009.mp4 0 0.26\n",
      "0000069_00004.mp4 0 0.31\n",
      "0000069_00009.mp4 0 0.15\n",
      "0000070_00004.mp4 0 0.16\n",
      "0000070_00009.mp4 0 0.16\n",
      "0000071_00004.mp4 1 0.93\n",
      "0000071_00009.mp4 1 1.0\n",
      "0000072_00004.mp4 1 0.62\n",
      "0000072_00009.mp4 0 0.0\n",
      "0000073_00004.mp4 1 0.97\n",
      "0000073_00009.mp4 0 0.0\n",
      "0000074_00004.mp4 0 0.26\n",
      "0000074_00009.mp4 0 0.19\n",
      "0000077_00004.mp4 0 0.21\n",
      "0000078_00004.mp4 0 0.18\n",
      "0000078_00009.mp4 0 0.07\n",
      "0000083_00004.mp4 1 0.85\n",
      "0000085_00004.mp4 1 0.57\n",
      "0000086_00004.mp4 1 0.52\n",
      "0000087_00004.mp4 1 0.99\n",
      "0000087_00009.mp4 0 0.23\n",
      "0000088_00004.mp4 0 0.35\n",
      "0000088_00009.mp4 0 0.27\n",
      "0000089_00004.mp4 1 0.75\n",
      "0000089_00009.mp4 1 1.0\n",
      "0000090_00004.mp4 1 0.73\n",
      "0000090_00009.mp4 0 0.26\n",
      "0000091_00004.mp4 0 0.22\n",
      "0000092_00004.mp4 0 0.15\n",
      "0000097_00004.mp4 0 0.27\n",
      "0000097_00009.mp4 0 0.44\n",
      "0000098_00004.mp4 0 0.36\n",
      "0000098_00009.mp4 0 0.06\n",
      "0000099_00004.mp4 0 0.25\n",
      "0000099_00009.mp4 1 1.0\n"
     ]
    }
   ],
   "source": [
    "import numpy as np\n",
    "\n",
    "# 假设有 5 个样本，每个样本有 4 个浮点数特征\n",
    "X = np.array(x_list)\n",
    "y = np.array(y)\n",
    "from sklearn.model_selection import train_test_split\n",
    "from sklearn.linear_model import LogisticRegression\n",
    "from sklearn.metrics import accuracy_score\n",
    "\n",
    "X_test = np.array(x_test)\n",
    "\n",
    "\n",
    "# 预测测试集\n",
    "y_pred = model.predict(X_test)\n",
    "y_prob = model.predict_proba(X_test)[:, 1]\n",
    "for i,file in enumerate(results_list['mp4']):\n",
    "    print(file,y_pred[i],round(y_prob[i],2))"
   ]
  },
  {
   "cell_type": "code",
   "execution_count": 54,
   "id": "d5f982d3-9256-4fd4-baa3-5a36e924eb9d",
   "metadata": {},
   "outputs": [
    {
     "data": {
      "text/plain": [
       "['0000061_00004.mp4',\n",
       " '0000062_00004.mp4',\n",
       " '0000062_00009.mp4',\n",
       " '0000065_00004.mp4',\n",
       " '0000066_00004.mp4',\n",
       " '0000067_00004.mp4',\n",
       " '0000067_00009.mp4',\n",
       " '0000068_00004.mp4',\n",
       " '0000068_00009.mp4',\n",
       " '0000069_00004.mp4',\n",
       " '0000069_00009.mp4',\n",
       " '0000070_00004.mp4',\n",
       " '0000070_00009.mp4',\n",
       " '0000071_00004.mp4',\n",
       " '0000071_00009.mp4',\n",
       " '0000072_00004.mp4',\n",
       " '0000072_00009.mp4',\n",
       " '0000073_00004.mp4',\n",
       " '0000073_00009.mp4',\n",
       " '0000074_00004.mp4',\n",
       " '0000074_00009.mp4',\n",
       " '0000077_00004.mp4',\n",
       " '0000078_00004.mp4',\n",
       " '0000078_00009.mp4',\n",
       " '0000083_00004.mp4',\n",
       " '0000085_00004.mp4',\n",
       " '0000086_00004.mp4',\n",
       " '0000087_00004.mp4',\n",
       " '0000087_00009.mp4',\n",
       " '0000088_00004.mp4',\n",
       " '0000088_00009.mp4',\n",
       " '0000089_00004.mp4',\n",
       " '0000089_00009.mp4',\n",
       " '0000090_00004.mp4',\n",
       " '0000090_00009.mp4',\n",
       " '0000091_00004.mp4',\n",
       " '0000092_00004.mp4',\n",
       " '0000097_00004.mp4',\n",
       " '0000097_00009.mp4',\n",
       " '0000098_00004.mp4',\n",
       " '0000098_00009.mp4',\n",
       " '0000099_00004.mp4',\n",
       " '0000099_00009.mp4']"
      ]
     },
     "execution_count": 54,
     "metadata": {},
     "output_type": "execute_result"
    }
   ],
   "source": [
    "results_list['mp4']"
   ]
  },
  {
   "cell_type": "code",
   "execution_count": 81,
   "id": "b6afe8de-c0b2-4b9f-83dc-e75ab0718ccd",
   "metadata": {},
   "outputs": [
    {
     "data": {
      "text/plain": [
       "['22GRZ7ih-mQ_2.mp4', '22Nc43oY0Ng_2.mp4', '22pBN04LBz4_2.mp4']"
      ]
     },
     "execution_count": 81,
     "metadata": {},
     "output_type": "execute_result"
    }
   ],
   "source": [
    "static_list"
   ]
  },
  {
   "cell_type": "code",
   "execution_count": 75,
   "id": "4d02c431-77e5-4278-9ab9-2e47cea42ccc",
   "metadata": {},
   "outputs": [
    {
     "data": {
      "text/plain": [
       "{'114iopCPWKk_0.mp4',\n",
       " '11DFBNgL5lc_2.mp4',\n",
       " '11GLHBfciaA_2.mp4',\n",
       " '11HXe7pymh8_0.mp4',\n",
       " '11HXe7pymh8_1.mp4',\n",
       " '11HXe7pymh8_2.mp4',\n",
       " '11HjRq-A3ow_1.mp4',\n",
       " '11YUkJCf6_w_2.mp4',\n",
       " '11fLImeUZ2w_0.mp4',\n",
       " '11fLImeUZ2w_1.mp4',\n",
       " '11igmz4iZrg_1.mp4',\n",
       " '11mhs3qdQk0_2.mp4',\n",
       " '11ssCPxWDaY_2.mp4',\n",
       " '11vajpsGDMc_1.mp4'}"
      ]
     },
     "execution_count": 75,
     "metadata": {},
     "output_type": "execute_result"
    }
   ],
   "source": [
    "set(results_list['mp4'])- set(static_list) - set(cut_list)"
   ]
  },
  {
   "cell_type": "code",
   "execution_count": 67,
   "id": "dcbac315-cb65-41bb-86c7-cbf67f25a9d6",
   "metadata": {},
   "outputs": [
    {
     "name": "stdout",
     "output_type": "stream",
     "text": [
      "cut: 21/21\n",
      "11I5Qvkl3CQ_1.mp4\n",
      "11DFBNgL5lc_1.mp4\n",
      "correct no cut: 8/10\n"
     ]
    }
   ],
   "source": [
    "cut_cnt=0\n",
    "no_cut_cnt = 0\n",
    "len_nocut = len(nocut_)\n",
    "len_cut = len(cut_)\n",
    "for cut_mp4 in cut_:\n",
    "    if cut_mp4 in cut_list:\n",
    "        cut_cnt+=1\n",
    "print(f'cut: {cut_cnt}/{len_cut}')\n",
    "\n",
    "for no_cut_mp4 in nocut_:\n",
    "    if no_cut_mp4 in cut_list:\n",
    "        no_cut_cnt+=1\n",
    "        print(no_cut_mp4)\n",
    "print(f'correct no cut: {len_nocut-no_cut_cnt}/{len_nocut}')"
   ]
  },
  {
   "cell_type": "code",
   "execution_count": 13,
   "id": "f66697a3-b193-4a50-aec2-3de820a4e489",
   "metadata": {},
   "outputs": [
    {
     "name": "stdout",
     "output_type": "stream",
     "text": [
      "[61.66, 38.847722996346846]\n",
      "0 []\n"
     ]
    }
   ],
   "source": [
    "import os\n",
    "# root_path = '/home/guangyi.liu/world_model/ipynb/panda_samples_aes'  # for cut-video\n",
    "# root_path = '/home/guangyi.liu/world_model/ipynb/panda_samples_aes/cut'  # for non-cut video\n",
    "# root_path = '/home/guangyi.liu/world_model/ipynb/panda_samples_aes/noncut'  # for non-cut video\n",
    "# root_path = '/home/guangyi.liu/shared-folder/datasets/guangyi_data/scripts/panda70m/samples_fewer'\n",
    "# root_path = '/home/guangyi.liu/repo/video_process/mp4_file'\n",
    "root_path ='/home/guangyi.liu/shared-folder/datasets/guangyi_data/MiraData'\n",
    "files = os.listdir(root_path)\n",
    "files.sort()\n",
    "cut_list = []\n",
    "static_list =[]\n",
    "# results_list = {'mp4':[],'de_mean':[],'de_std':[],'dl_mean':[],'dl_std':[]}\n",
    "for mp4_file in files:\n",
    "    if '.mp4' in mp4_file[-4:]:\n",
    "        # print(mp4_file)\n",
    "        mp4file = os.path.join(root_path, mp4_file)\n",
    "        video = open_video(mp4file)\n",
    "        video.seek(1)\n",
    "        stats_manager = StatsManager()\n",
    "        scene_manager = SceneManager(stats_manager)\n",
    "        # scene_manager.auto_downscale=True\n",
    "        # scene_manager.downscale = 1\n",
    "        scene_manager.add_detector(MyDetector1(threshold=[61.66, 38.847722996346846]))\n",
    "        \n",
    "        scene_manager.detect_scenes(video=video)\n",
    "        stats_manager._frame_metrics\n",
    "        frame_keys = stats_manager._frame_metrics.keys()\n",
    "        # delta_edges = []\n",
    "        # delta_lums = []\n",
    "        # for key in frame_keys:\n",
    "        #     delta_edges.append(stats_manager._frame_metrics[key]['delta_edges'])\n",
    "        #     delta_lums.append(stats_manager._frame_metrics[key]['delta_lum'])\n",
    "        # de_mean = np.mean(delta_edges)\n",
    "        # de_std = np.std(delta_edges)\n",
    "        # dl_mean = np.mean(delta_lums)\n",
    "        # dl_std = np.std(delta_lums)\n",
    "        # de_upper_bound = max(de_mean + 5.5 * de_std, 3* de_mean)\n",
    "        # dl_upper_bound = max(dl_mean + 5.5* dl_std, 3* dl_mean)\n",
    "        # total_cut_de = np.sum(np.array(delta_edges) > de_upper_bound )\n",
    "        # total_cut_dl = np.sum(np.array(delta_lums) > dl_upper_bound   )\n",
    "        # results_list['mp4'].append(mp4_file)\n",
    "        # results_list['de_mean'].append(round(de_mean,2))\n",
    "        # results_list['dl_mean'].append(round(dl_mean,2))\n",
    "        # results_list['de_std'].append(round(de_std,2))\n",
    "        # results_list['dl_std'].append(round(dl_std,2))\n",
    "        # print(mp4_file,round(de_mean,2),round(de_std,2),de_upper_bound,round(np.max(delta_edges),2),'\\t',round(dl_mean,2),round(dl_std,2),dl_upper_bound,round(np.max(delta_lums),2))\n",
    "        # if dl_mean < 0.7 and dl_std < 0.3:\n",
    "        #     static_list.append(mp4_file)\n",
    "        # elif de_mean < 1.5 and de_std < 1.5:\n",
    "        #     static_list.append(mp4_file)\n",
    "        # if total_cut_de> 0 or total_cut_dl >0:\n",
    "        #     cut_list.append(mp4_file)\n",
    "        # stats_manager.save_to_csv(f'./mp4_file/{mp4_file}.csv')\n",
    "        # print(mp4_file,total_cut>0)\n",
    "        # if mp4_file =='4.6.mp4':\n",
    "        #     break\n",
    "        # [3.99,4.03,4.12,4.27,4.53,4.8,4.81,4.97,5.07]\n",
    "# 15 ['3.72.mp4', '3.83.mp4',  '4.37.mp4', '4.6.mp4',  '4.83.mp4', '4.86.mp4']\n",
    "print(len(cut_list),cut_list)"
   ]
  },
  {
   "cell_type": "code",
   "execution_count": 14,
   "id": "b2289650-1492-40be-b5b5-afb21140b6f9",
   "metadata": {},
   "outputs": [],
   "source": [
    "scene_list = scene_manager.get_scene_list()"
   ]
  },
  {
   "cell_type": "code",
   "execution_count": 24,
   "id": "fc097eb6-2578-409a-8e13-d0613be23a5a",
   "metadata": {
    "tags": []
   },
   "outputs": [
    {
     "data": {
      "text/plain": [
       "00:00:00.033 [frame=1, fps=29.970]"
      ]
     },
     "execution_count": 24,
     "metadata": {},
     "output_type": "execute_result"
    }
   ],
   "source": [
    "scene_list[0][0]"
   ]
  },
  {
   "cell_type": "code",
   "execution_count": 14,
   "id": "c1102856-7230-432c-9194-6a3462226e26",
   "metadata": {},
   "outputs": [],
   "source": [
    "cut_flag = (np.array(delta_edges) > de_upper_bound) | (np.array(delta_lums) > dl_upper_bound)\n",
    "cut_pos = []\n",
    "for i in range(len(cut_flag)):\n",
    "    if cut_flag[i]:\n",
    "        cut_pos.append(i)"
   ]
  },
  {
   "cell_type": "code",
   "execution_count": 76,
   "id": "aafd187e-ce3d-4653-971d-0397f333c7b4",
   "metadata": {},
   "outputs": [
    {
     "name": "stdout",
     "output_type": "stream",
     "text": [
      "skip\n",
      "skip\n",
      "skip\n",
      "skip\n",
      "skip\n",
      "skip\n",
      "skip\n",
      "skip\n",
      "skip\n"
     ]
    }
   ],
   "source": [
    "from datetime import datetime,timedelta\n",
    "skip_duration = timedelta(seconds=0.5)\n",
    "start_skip = timedelta(seconds=1.5)\n",
    "video_name = 'test_new'\n",
    "time_format = '%H:%M:%S.%f'\n",
    "for i, timecode_ in enumerate(scene_list):\n",
    "    timecode = [None,None]\n",
    "    timecode[0] = timecode_[0].get_timecode()\n",
    "    timecode[1] = timecode_[1].get_timecode()\n",
    "    if i == 0:\n",
    "        start_time = datetime.strptime(timecode[0], time_format) + skip_duration + start_skip\n",
    "    else:\n",
    "        start_time = datetime.strptime(timecode[0], time_format) + skip_duration\n",
    "    end_time = datetime.strptime(timecode[1], time_format) - skip_duration\n",
    "    timecode[0] = start_time.strftime(time_format)\n",
    "    video_duration = (end_time - start_time).total_seconds()\n",
    "    if video_duration < 2:\n",
    "        print('skip')\n",
    "        continue\n",
    "    os.system(\"ffmpeg -hide_banner -loglevel panic -ss %s -t %.3f -i %s %s\"%(timecode[0], video_duration, video_path, os.path.join('mp4_file', video_name+\".%i.mp4\"%i)))\n"
   ]
  },
  {
   "cell_type": "code",
   "execution_count": 61,
   "id": "2cdc6c38-271d-49ea-8826-8bf6199c9880",
   "metadata": {
    "tags": []
   },
   "outputs": [],
   "source": [
    "test= datetime.strptime(timecode[0], '%H:%M:%S.%f') + skip_duration"
   ]
  },
  {
   "cell_type": "code",
   "execution_count": 71,
   "id": "c36ae2b0-54b1-49ad-bd4d-3699a955d456",
   "metadata": {},
   "outputs": [],
   "source": [
    "time_format = '%H:%M:%S.%f'"
   ]
  },
  {
   "cell_type": "code",
   "execution_count": 72,
   "id": "578a7a22-47a5-4cd2-9459-282d7f12e68f",
   "metadata": {},
   "outputs": [
    {
     "data": {
      "text/plain": [
       "'01:02:20.040020'"
      ]
     },
     "execution_count": 72,
     "metadata": {},
     "output_type": "execute_result"
    }
   ],
   "source": [
    "test.strftime(time_format)"
   ]
  },
  {
   "cell_type": "code",
   "execution_count": 53,
   "id": "ba7a1323-787a-4a3c-bd19-bc7ed29846f9",
   "metadata": {},
   "outputs": [
    {
     "data": {
      "text/plain": [
       "datetime.timedelta(microseconds=20)"
      ]
     },
     "execution_count": 53,
     "metadata": {},
     "output_type": "execute_result"
    }
   ],
   "source": [
    "one_second"
   ]
  },
  {
   "cell_type": "code",
   "execution_count": 38,
   "id": "27ed3690-1f8c-4bde-800d-f084435dbf4f",
   "metadata": {},
   "outputs": [
    {
     "data": {
      "text/plain": [
       "[28.457845052083332]"
      ]
     },
     "execution_count": 38,
     "metadata": {},
     "output_type": "execute_result"
    }
   ],
   "source": [
    "stats_manager.get_metrics(2,['delta_edges'])"
   ]
  },
  {
   "cell_type": "code",
   "execution_count": 51,
   "id": "3ba0e0ee-d50b-45f9-8359-9b050bf4973f",
   "metadata": {},
   "outputs": [
    {
     "data": {
      "text/plain": [
       "79.91106163101028"
      ]
     },
     "execution_count": 51,
     "metadata": {},
     "output_type": "execute_result"
    }
   ],
   "source": [
    "dl_mean + 5.5 * dl_std"
   ]
  },
  {
   "cell_type": "code",
   "execution_count": 41,
   "id": "ffc879bf-3e5a-4b7c-a4cf-7ee4d0e993bd",
   "metadata": {},
   "outputs": [
    {
     "data": {
      "text/plain": [
       "['4.12.mp4', '4.5.mp4', '4.76.mp4', '4.77.mp4', '5.27.mp4']"
      ]
     },
     "execution_count": 41,
     "metadata": {},
     "output_type": "execute_result"
    }
   ],
   "source": [
    "stats_manager.save_to_csv("
   ]
  },
  {
   "cell_type": "code",
   "execution_count": 32,
   "id": "611b6878-1abe-45d7-a447-8ad0b7537b87",
   "metadata": {},
   "outputs": [
    {
     "name": "stdout",
     "output_type": "stream",
     "text": [
      "4.12.mp4 0.23 1.14\n",
      "4.5.mp4 1.29 1.03\n",
      "4.76.mp4 1.35 0.41\n",
      "4.77.mp4 1.04 0.86\n"
     ]
    }
   ],
   "source": [
    "for i in range(len(results_list['mp4'])):\n",
    "    if results_list['de_mean'][i] < 1.5:\n",
    "        print(results_list['mp4'][i], results_list['de_mean'][i],results_list['de_std'][i])"
   ]
  },
  {
   "cell_type": "code",
   "execution_count": 31,
   "id": "959e15d7-dea0-4816-bd4d-6e2158df2aef",
   "metadata": {},
   "outputs": [
    {
     "name": "stdout",
     "output_type": "stream",
     "text": [
      "4.12.mp4 0.06 0.31\n",
      "4.5.mp4 0.29 0.24\n",
      "4.6.mp4 0.67 1.23\n",
      "4.76.mp4 0.58 0.18\n",
      "4.77.mp4 0.14 0.04\n",
      "4.83.mp4 0.65 0.45\n",
      "5.27.mp4 0.55 0.19\n"
     ]
    }
   ],
   "source": [
    "for i in range(len(results_list['mp4'])):\n",
    "    if results_list['dl_mean'][i] < 1.:\n",
    "        print(results_list['mp4'][i], results_list['dl_mean'][i],results_list['dl_std'][i] )"
   ]
  },
  {
   "cell_type": "code",
   "execution_count": 35,
   "id": "224c0e1a-735c-411a-9426-534db2cbf312",
   "metadata": {},
   "outputs": [
    {
     "name": "stdout",
     "output_type": "stream",
     "text": [
      "4.5.mp4 0.29 0.24\n",
      "4.76.mp4 0.58 0.18\n",
      "4.77.mp4 0.14 0.04\n",
      "4.83.mp4 0.65 0.45\n",
      "5.27.mp4 0.55 0.19\n"
     ]
    }
   ],
   "source": [
    "for i in range(len(results_list['mp4'])):\n",
    "    if results_list['dl_mean'][i] > results_list['dl_std'][i] and results_list['dl_mean'][i] < 1.:\n",
    "        print(results_list['mp4'][i], results_list['dl_mean'][i],results_list['dl_std'][i] )"
   ]
  },
  {
   "cell_type": "code",
   "execution_count": 27,
   "id": "47035285-efba-4924-ab6e-a5053c1bfba0",
   "metadata": {},
   "outputs": [
    {
     "data": {
      "text/plain": [
       "0.55"
      ]
     },
     "execution_count": 27,
     "metadata": {},
     "output_type": "execute_result"
    }
   ],
   "source": [
    "results_list['dl_mean'][-1]"
   ]
  },
  {
   "cell_type": "code",
   "execution_count": 2,
   "id": "eed8c1b2-84d9-4d69-ac0e-bac128342bf1",
   "metadata": {},
   "outputs": [
    {
     "name": "stderr",
     "output_type": "stream",
     "text": [
      "/home/guangyi.liu/.conda/envs/llava/lib/python3.10/site-packages/tqdm/auto.py:21: TqdmWarning: IProgress not found. Please update jupyter and ipywidgets. See https://ipywidgets.readthedocs.io/en/stable/user_install.html\n",
      "  from .autonotebook import tqdm as notebook_tqdm\n"
     ]
    }
   ],
   "source": [
    "from scenedetect import detect, ContentDetector,open_video,StatsManager,SceneManager\n",
    "import numpy as np\n",
    "def detect_cut(mp4file):\n",
    "    video = open_video(mp4file)\n",
    "    video.seek(1) #  the first frame may give large delta_edge value, start from the second frame\n",
    "    stats_manager = StatsManager()\n",
    "    scene_manager = SceneManager(stats_manager)\n",
    "    scene_manager.add_detector(ContentDetector())\n",
    "    scene_manager.detect_scenes(video=video)\n",
    "    frame_keys = stats_manager._frame_metrics.keys()  # read metrics\n",
    "    delta_edges = []\n",
    "    delta_lums = []\n",
    "    for key in frame_keys:\n",
    "        delta_edges.append(stats_manager._frame_metrics[key]['delta_edges'])\n",
    "        delta_lums.append(stats_manager._frame_metrics[key]['delta_lum'])\n",
    "    de_mean = np.mean(delta_edges)\n",
    "    de_std = np.std(delta_edges)\n",
    "    dl_mean = np.mean(delta_lums)\n",
    "    dl_std = np.std(delta_lums)\n",
    "    de_upper_bound = max(de_mean + 5.5 * de_std, 3* de_mean)\n",
    "    dl_upper_bound = max(dl_mean + 5.5 * dl_std, 3* dl_mean)\n",
    "    total_cut_de = np.sum(np.array(delta_edges) > de_upper_bound )\n",
    "    total_cut_dl = np.sum(np.array(delta_lums) > dl_upper_bound )\n",
    "    return total_cut_de> 0 or total_cut_dl >0 # if True, there is a cut, ignore this sample"
   ]
  },
  {
   "cell_type": "code",
   "execution_count": 10,
   "id": "73642ed0-a6ed-45d4-9f2f-087307c5134e",
   "metadata": {},
   "outputs": [
    {
     "name": "stderr",
     "output_type": "stream",
     "text": [
      "100%|████████████████████████████████████████████████████████████████████████████████████████████████████████████████████████████████████████████████████████████████████████████████████████████████████████████████████████████████████████████████████████| 550/550 [03:43<00:00,  2.46it/s]"
     ]
    },
    {
     "name": "stdout",
     "output_type": "stream",
     "text": [
      "223.59946084022522\n"
     ]
    },
    {
     "name": "stderr",
     "output_type": "stream",
     "text": [
      "\n"
     ]
    }
   ],
   "source": [
    "import os\n",
    "# root_path = '/home/guangyi.liu/world_model/ipynb/panda_samples_aes'  # for cut-video\n",
    "# root_path = '/home/guangyi.liu/world_model/ipynb/panda_samples_aes/cut'  # for non-cut video\n",
    "# root_path = '/home/guangyi.liu/world_model/ipynb/panda_samples_aes/noncut'  # for non-cut video\n",
    "root_path = '/home/guangyi.liu/shared-folder/datasets/guangyi_data/kinetics-dataset/k600_targz/train/bobsledding'\n",
    "files = os.listdir(root_path)\n",
    "files.sort()\n",
    "cut_list = []\n",
    "import time\n",
    "start = time.time()\n",
    "from tqdm import tqdm\n",
    "out_list=[]\n",
    "for mp4_file in tqdm(files,total=len(files)):\n",
    "    if '.mp4' in mp4_file:\n",
    "        # print(mp4_file)\n",
    "        mp4file = os.path.join(root_path, mp4_file)\n",
    "        res = detect_cut(mp4file)\n",
    "        if res:\n",
    "            out_list.append(mp4_file)\n",
    "        #     print(mp4_file)\n",
    "\n",
    "print(time.time()-start)\n",
    "# [3.99,4.03,4.12,4.27,4.53,4.8,4.81,4.97,5.07]"
   ]
  },
  {
   "cell_type": "code",
   "execution_count": 4,
   "id": "80e03e74-72a3-4906-a86e-e63a991bcad3",
   "metadata": {},
   "outputs": [],
   "source": [
    "from streaming import StreamingDataset"
   ]
  },
  {
   "cell_type": "code",
   "execution_count": 11,
   "id": "39051500-1a38-4a9e-9e49-71d6fbb4fdbd",
   "metadata": {},
   "outputs": [
    {
     "name": "stdout",
     "output_type": "stream",
     "text": [
      "0.33454545454545453\n"
     ]
    }
   ],
   "source": [
    "print(len(out_list)/len(files))"
   ]
  },
  {
   "cell_type": "code",
   "execution_count": 5,
   "id": "02e24a85-61f3-4953-90be-18ef8f0c560b",
   "metadata": {},
   "outputs": [],
   "source": [
    "dataset = StreamingDataset(remote = '/home/guangyi.liu/shared-folder/datasets/panda70m_streaming_all_2s_10s_2xframe_ofm1.5_cutnum_aes4.75_forcaption_gpt_v3_cut')"
   ]
  },
  {
   "cell_type": "code",
   "execution_count": 6,
   "id": "c314d9a4-bf93-4f92-86a1-8eaba573ea08",
   "metadata": {},
   "outputs": [
    {
     "data": {
      "text/plain": [
       "627481"
      ]
     },
     "execution_count": 6,
     "metadata": {},
     "output_type": "execute_result"
    }
   ],
   "source": [
    "len(dataset)"
   ]
  },
  {
   "cell_type": "code",
   "execution_count": null,
   "id": "d0b93c18-ebea-4ba8-b3d7-e7ba1e44349d",
   "metadata": {},
   "outputs": [],
   "source": []
  }
 ],
 "metadata": {
  "kernelspec": {
   "display_name": "Python (lgy)",
   "language": "python",
   "name": "lgy"
  },
  "language_info": {
   "codemirror_mode": {
    "name": "ipython",
    "version": 3
   },
   "file_extension": ".py",
   "mimetype": "text/x-python",
   "name": "python",
   "nbconvert_exporter": "python",
   "pygments_lexer": "ipython3",
   "version": "3.10.12"
  }
 },
 "nbformat": 4,
 "nbformat_minor": 5
}
