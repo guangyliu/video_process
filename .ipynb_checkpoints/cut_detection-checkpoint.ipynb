{
 "cells": [
  {
   "cell_type": "markdown",
   "id": "80ca7855-146b-438b-8e8c-8304aa2bc60b",
   "metadata": {},
   "source": [
    "# Detect Cut in the video"
   ]
  },
  {
   "cell_type": "code",
   "execution_count": 1,
   "id": "f8812655-33b2-445c-a97f-c0a128db90e8",
   "metadata": {},
   "outputs": [
    {
     "name": "stderr",
     "output_type": "stream",
     "text": [
      "/home/guangyi.liu/.conda/envs/llava/lib/python3.10/site-packages/tqdm/auto.py:21: TqdmWarning: IProgress not found. Please update jupyter and ipywidgets. See https://ipywidgets.readthedocs.io/en/stable/user_install.html\n",
      "  from .autonotebook import tqdm as notebook_tqdm\n"
     ]
    }
   ],
   "source": [
    "from scenedetect import detect, ContentDetector,ThresholdDetector,AdaptiveDetector"
   ]
  },
  {
   "cell_type": "code",
   "execution_count": 182,
   "id": "2df8309e-9bad-4e75-9c8f-9ddf18ec553b",
   "metadata": {},
   "outputs": [
    {
     "name": "stderr",
     "output_type": "stream",
     "text": [
      "[h264 @ 0x119b4480] mmco: unref short failure\n",
      "[h264 @ 0x119b4480] mmco: unref short failure\n",
      "[h264 @ 0x119b4480] mmco: unref short failure\n",
      "[h264 @ 0x119b4480] mmco: unref short failure\n"
     ]
    },
    {
     "name": "stdout",
     "output_type": "stream",
     "text": [
      "9 ['3.99.mp4', '4.03.mp4', '4.12.mp4', '4.27.mp4', '4.53.mp4', '4.8.mp4', '4.81.mp4', '4.97.mp4', '5.07.mp4']\n"
     ]
    }
   ],
   "source": [
    "root_path = '/home/guangyi.liu/world_model/ipynb/panda_samples_aes'  # for cut-video\n",
    "# root_path = '/home/guangyi.liu/world_model/ipynb/panda_samples_aes/cut'  # for non-cut video\n",
    "# root_path = '/home/guangyi.liu/world_model/ipynb/panda_samples_aes/noncut'  # for non-cut video\n",
    "files = os.listdir(root_path)\n",
    "files.sort()\n",
    "cut_list = []\n",
    "for mp4_file in files:\n",
    "    if '.mp4' in mp4_file:\n",
    "        # print(mp4_file)\n",
    "        mp4file = os.path.join(root_path, mp4_file)\n",
    "        video = open_video(mp4file)\n",
    "        video.seek(1)\n",
    "        stats_manager = StatsManager()\n",
    "        scene_manager = SceneManager(stats_manager)\n",
    "        # scene_manager.auto_downscale=True\n",
    "        # scene_manager.downscale = 1\n",
    "        scene_manager.add_detector(ContentDetector(threshold=27))\n",
    "        \n",
    "        scene_manager.detect_scenes(video=video)\n",
    "        stats_manager._frame_metrics\n",
    "        frame_keys = stats_manager._frame_metrics.keys()\n",
    "        delta_edges = []\n",
    "        delta_lums = []\n",
    "        for key in frame_keys:\n",
    "            delta_edges.append(stats_manager._frame_metrics[key]['delta_edges'])\n",
    "            delta_lums.append(stats_manager._frame_metrics[key]['delta_lum'])\n",
    "        de_mean = np.mean(delta_edges)\n",
    "        de_std = np.std(delta_edges)\n",
    "        dl_mean = np.mean(delta_lums)\n",
    "        dl_std = np.std(delta_lums)\n",
    "        de_upper_bound = max(de_mean + 5.5 * de_std, 3* de_mean)\n",
    "        dl_upper_bound = max(dl_mean + 5.5 * dl_std, 3* dl_mean)\n",
    "        total_cut_de = np.sum(np.array(delta_edges) > de_upper_bound )\n",
    "        total_cut_dl = np.sum(np.array(delta_lums) > dl_upper_bound   )\n",
    "        if total_cut_de> 0 or total_cut_dl >0:\n",
    "            cut_list.append(mp4_file)\n",
    "        # print(mp4_file,total_cut>0)\n",
    "        # if mp4_file =='4.6.mp4':\n",
    "        #     break\n",
    "        # [3.99,4.03,4.12,4.27,4.53,4.8,4.81,4.97,5.07]\n",
    "print(len(cut_list),cut_list)"
   ]
  },
  {
   "cell_type": "code",
   "execution_count": 10,
   "id": "eed8c1b2-84d9-4d69-ac0e-bac128342bf1",
   "metadata": {},
   "outputs": [],
   "source": [
    "from scenedetect import detect, ContentDetector,open_video,StatsManager,SceneManager\n",
    "import numpy as np\n",
    "def detect_cut(mp4file):\n",
    "    video = open_video(mp4file)\n",
    "    video.seek(1) #  the first frame may give large delta_edge value, start from the second frame\n",
    "    stats_manager = StatsManager()\n",
    "    scene_manager = SceneManager(stats_manager)\n",
    "    scene_manager.add_detector(ContentDetector())\n",
    "    scene_manager.detect_scenes(video=video)\n",
    "    frame_keys = stats_manager._frame_metrics.keys()  # read metrics\n",
    "    delta_edges = []\n",
    "    delta_lums = []\n",
    "    for key in frame_keys:\n",
    "        delta_edges.append(stats_manager._frame_metrics[key]['delta_edges'])\n",
    "        delta_lums.append(stats_manager._frame_metrics[key]['delta_lum'])\n",
    "    de_mean = np.mean(delta_edges)\n",
    "    de_std = np.std(delta_edges)\n",
    "    dl_mean = np.mean(delta_lums)\n",
    "    dl_std = np.std(delta_lums)\n",
    "    de_upper_bound = max(de_mean + 5.5 * de_std, 3* de_mean)\n",
    "    dl_upper_bound = max(dl_mean + 5.5 * dl_std, 3* dl_mean)\n",
    "    total_cut_de = np.sum(np.array(delta_edges) > de_upper_bound )\n",
    "    total_cut_dl = np.sum(np.array(delta_lums) > dl_upper_bound )\n",
    "    return total_cut_de> 0 or total_cut_dl >0 # if True, there is a cut, ignore this sample"
   ]
  },
  {
   "cell_type": "code",
   "execution_count": 12,
   "id": "73642ed0-a6ed-45d4-9f2f-087307c5134e",
   "metadata": {
    "scrolled": true
   },
   "outputs": [
    {
     "name": "stdout",
     "output_type": "stream",
     "text": [
      "3.99.mp4\n",
      "4.03.mp4\n",
      "4.12.mp4\n",
      "4.27.mp4\n",
      "4.53.mp4\n",
      "4.8.mp4\n",
      "4.81.mp4\n"
     ]
    },
    {
     "name": "stderr",
     "output_type": "stream",
     "text": [
      "[h264 @ 0x4166380] mmco: unref short failure\n",
      "[h264 @ 0x4166380] mmco: unref short failure\n",
      "[h264 @ 0x4166380] mmco: unref short failure\n",
      "[h264 @ 0x4166380] mmco: unref short failure\n"
     ]
    },
    {
     "name": "stdout",
     "output_type": "stream",
     "text": [
      "4.97.mp4\n",
      "5.07.mp4\n",
      "6.267369985580444\n"
     ]
    }
   ],
   "source": [
    "import os\n",
    "root_path = '/home/guangyi.liu/world_model/ipynb/panda_samples_aes'  # for cut-video\n",
    "# root_path = '/home/guangyi.liu/world_model/ipynb/panda_samples_aes/cut'  # for non-cut video\n",
    "# root_path = '/home/guangyi.liu/world_model/ipynb/panda_samples_aes/noncut'  # for non-cut video\n",
    "files = os.listdir(root_path)\n",
    "files.sort()\n",
    "cut_list = []\n",
    "import time\n",
    "start = time.time()\n",
    "for mp4_file in files:\n",
    "    if '.mp4' in mp4_file:\n",
    "        # print(mp4_file)\n",
    "        mp4file = os.path.join(root_path, mp4_file)\n",
    "        res = detect_cut(mp4file)\n",
    "        if res:\n",
    "            print(mp4_file)\n",
    "\n",
    "print(time.time()-start)\n",
    "# [3.99,4.03,4.12,4.27,4.53,4.8,4.81,4.97,5.07]"
   ]
  },
  {
   "cell_type": "code",
   "execution_count": null,
   "id": "80e03e74-72a3-4906-a86e-e63a991bcad3",
   "metadata": {},
   "outputs": [],
   "source": []
  }
 ],
 "metadata": {
  "kernelspec": {
   "display_name": "Python (llava)",
   "language": "python",
   "name": "llava"
  },
  "language_info": {
   "codemirror_mode": {
    "name": "ipython",
    "version": 3
   },
   "file_extension": ".py",
   "mimetype": "text/x-python",
   "name": "python",
   "nbconvert_exporter": "python",
   "pygments_lexer": "ipython3",
   "version": "3.10.14"
  }
 },
 "nbformat": 4,
 "nbformat_minor": 5
}
