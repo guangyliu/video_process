{
 "cells": [
  {
   "cell_type": "markdown",
   "id": "80ca7855-146b-438b-8e8c-8304aa2bc60b",
   "metadata": {},
   "source": [
    "# Detect Cut in the video"
   ]
  },
  {
   "cell_type": "code",
   "execution_count": 1,
   "id": "f8812655-33b2-445c-a97f-c0a128db90e8",
   "metadata": {},
   "outputs": [
    {
     "name": "stderr",
     "output_type": "stream",
     "text": [
      "/home/guangyi.liu/.conda/envs/lgy/lib/python3.10/site-packages/tqdm/auto.py:21: TqdmWarning: IProgress not found. Please update jupyter and ipywidgets. See https://ipywidgets.readthedocs.io/en/stable/user_install.html\n",
      "  from .autonotebook import tqdm as notebook_tqdm\n"
     ]
    }
   ],
   "source": [
    "from scenedetect import detect, ContentDetector,ThresholdDetector,AdaptiveDetector,open_video,StatsManager,SceneManager\n",
    "import numpy as np\n",
    "from MyDetector import MyDetector as MyDetector1"
   ]
  },
  {
   "cell_type": "code",
   "execution_count": 80,
   "id": "2df8309e-9bad-4e75-9c8f-9ddf18ec553b",
   "metadata": {},
   "outputs": [
    {
     "name": "stdout",
     "output_type": "stream",
     "text": [
      "220dTSMLdj0_0.mp4 15.05 11.23 67.85 86.01 \t 6.69 5.91 36 55.82\n",
      "220dTSMLdj0_1.mp4 5.86 1.61 17.57 9.44 \t 2.18 0.57 7 3.61\n",
      "220dTSMLdj0_2.mp4 12.8 8.04 50.6 90.84 \t 3.94 3.08 19 38.36\n",
      "221TWSrSk-Q_1.mp4 12.3 7.63 48.14 32.08 \t 3.26 2.33 15 8.8\n",
      "226uOn6khAs_2.mp4 13.33 15.61 86.68 104.72 \t 5.39 9.8 54 70.8\n",
      "227ITymDcA8_2.mp4 3.71 1.67 11.53 8.61 \t 0.83 0.51 3 2.26\n",
      "22A5vfSCbEw_2.mp4 33.06 16.02 108.38 108.13 \t 13.04 6.79 47 43.03\n",
      "22ExhAyUNFQ_0.mp4 16.09 7.54 51.52 53.97 \t 4.99 3.66 23 30.94\n",
      "22ExhAyUNFQ_1.mp4 4.41 1.85 13.23 11.44 \t 2.64 1.31 9 6.62\n",
      "22GRZ7ih-mQ_0.mp4 6.34 2.92 20.08 18.72 \t 0.85 0.91 5 5.04\n",
      "22GRZ7ih-mQ_2.mp4 0.04 0.11 0.55 1.29 \t 0.09 0.1 1 1.22\n",
      "22I2D9WDIHQ_0.mp4 6.1 4.32 26.42 54.13 \t 2.65 2.58 16 38.55\n",
      "22I2D9WDIHQ_2.mp4 6.18 7.09 39.52 95.39 \t 2.23 4.34 24 57.48\n",
      "22IdOHUBAys_0.mp4 3.87 2.42 15.24 11.89 \t 1.6 0.98 7 4.6\n",
      "22IdOHUBAys_1.mp4 10.85 9.08 53.55 105.31 \t 6.92 6.59 40 60.7\n",
      "22IdOHUBAys_2.mp4 6.47 1.61 19.4 9.4 \t 2.2 0.71 7 3.33\n",
      "22Nc43oY0Ng_0.mp4 3.54 1.07 10.63 6.7 \t 1.04 0.44 3 2.19\n",
      "22Nc43oY0Ng_1.mp4 3.69 0.94 11.07 6.97 \t 0.89 0.09 3 1.22\n",
      "22Nc43oY0Ng_2.mp4 1.49 0.86 5.51 5.54 \t 0.32 0.11 1 0.86\n",
      "22Q7L5rg53E_0.mp4 3.92 2.15 14.02 16.77 \t 2.73 1.43 10 15.54\n",
      "22Q7L5rg53E_1.mp4 4.94 5.93 32.79 94.65 \t 2.76 4.71 26 87.27\n",
      "22Q7L5rg53E_2.mp4 3.19 5.23 27.78 112.05 \t 2.55 3.48 20 76.14\n",
      "22S1V4-GVaI_0.mp4 16.05 14.58 84.56 108.57 \t 6.68 10.04 57 81.05\n",
      "22S1V4-GVaI_1.mp4 4.6 8.8 45.97 51.97 \t 1.22 2.32 13 14.04\n",
      "22S1V4-GVaI_2.mp4 4.94 2.49 16.64 13.68 \t 1.72 1.01 7 5.17\n",
      "22XQDhlKMik_2.mp4 8.85 4.59 30.44 17.35 \t 2.45 1.43 10 5.44\n",
      "22bW6fV9zh8_0.mp4 23.61 10.47 72.8 88.36 \t 9.01 6.14 40 51.54\n",
      "22e71xkpDYc_0.mp4 14.01 6.8 45.98 76.78 \t 3.45 2.4 15 27.71\n",
      "22e71xkpDYc_1.mp4 7.57 10.02 54.68 109.35 \t 1.86 3.39 19 28.25\n",
      "22gIlTrAdaM_1.mp4 3.45 0.89 10.36 9.06 \t 1.1 0.57 4 7.13\n",
      "22l7qd0k-QY_2.mp4 10.68 5.37 35.94 35.9 \t 5.19 2.44 17 15.51\n",
      "22m1EQRaRUE_0.mp4 2.6 1.27 8.56 7.62 \t 0.71 0.45 3 2.75\n",
      "22m1EQRaRUE_1.mp4 9.72 1.63 29.17 13.52 \t 5.34 1.15 16 8.5\n",
      "22mlpkoKhOI_1.mp4 4.22 1.62 12.67 9.22 \t 1.13 0.56 4 2.98\n",
      "22mlpkoKhOI_2.mp4 5.18 2.84 18.53 17.37 \t 1.46 1.3 8 7.96\n",
      "22pBN04LBz4_0.mp4 1.26 1.04 6.15 5.09 \t 0.74 0.76 5 4.36\n",
      "22pBN04LBz4_1.mp4 4.75 1.59 14.25 8.22 \t 1.32 0.39 4 2.06\n",
      "22pBN04LBz4_2.mp4 0.15 0.34 1.74 2.8 \t 0.09 0.11 1 0.77\n",
      "22vkLrJL80U_1.mp4 9.83 3.93 29.48 19.98 \t 1.0 0.64 4 3.36\n",
      "22vkLrJL80U_2.mp4 0.19 1.59 7.66 16.03 \t 0.09 0.72 4 7.05\n",
      "20 ['220dTSMLdj0_0.mp4', '220dTSMLdj0_2.mp4', '226uOn6khAs_2.mp4', '22ExhAyUNFQ_0.mp4', '22GRZ7ih-mQ_2.mp4', '22I2D9WDIHQ_0.mp4', '22I2D9WDIHQ_2.mp4', '22IdOHUBAys_1.mp4', '22Nc43oY0Ng_2.mp4', '22Q7L5rg53E_0.mp4', '22Q7L5rg53E_1.mp4', '22Q7L5rg53E_2.mp4', '22S1V4-GVaI_0.mp4', '22S1V4-GVaI_1.mp4', '22bW6fV9zh8_0.mp4', '22e71xkpDYc_0.mp4', '22e71xkpDYc_1.mp4', '22gIlTrAdaM_1.mp4', '22pBN04LBz4_2.mp4', '22vkLrJL80U_2.mp4']\n"
     ]
    }
   ],
   "source": [
    "import os\n",
    "# root_path = '/home/guangyi.liu/shared-folder/datasets/guangyi_data/kinetics-dataset/k600/subset'  # for cut-video\n",
    "# root_path = '/home/guangyi.liu/world_model/ipynb/panda_samples_aes/cut'  # for non-cut video\n",
    "# root_path = '/home/guangyi.liu/world_model/ipynb/panda_samples_aes/noncut'  # for non-cut video\n",
    "# root_path = '/home/guangyi.liu/shared-folder/datasets/guangyi_data/scripts/panda70m/samples_fewer'\n",
    "# root_path = '/home/guangyi.liu/repo/video_process/mp4_file'\n",
    "root_path ='/home/guangyi.liu/shared-folder/datasets/panda-oricut-500k-720p-clips/debug'\n",
    "files = os.listdir(root_path)\n",
    "files.sort()\n",
    "cut_list = []\n",
    "static_list =[]\n",
    "results_list = {'mp4':[],'de_mean':[],'de_std':[],'dl_mean':[],'dl_std':[]}\n",
    "for mp4_file in files:\n",
    "    if '.mp4' in mp4_file[-4:] and '22' in mp4_file:\n",
    "        # print(mp4_file)\n",
    "        mp4file = os.path.join(root_path, mp4_file)\n",
    "        video = open_video(mp4file)\n",
    "        video.seek(1)\n",
    "        stats_manager = StatsManager()\n",
    "        scene_manager = SceneManager(stats_manager)\n",
    "        # scene_manager.auto_downscale=True\n",
    "        # scene_manager.downscale = 1\n",
    "        scene_manager.add_detector(ContentDetector(threshold=27))\n",
    "        \n",
    "        scene_manager.detect_scenes(video=video)\n",
    "        stats_manager._frame_metrics\n",
    "        frame_keys = stats_manager._frame_metrics.keys()\n",
    "        delta_edges = []\n",
    "        delta_lums = []\n",
    "        for key in frame_keys:\n",
    "            delta_edges.append(stats_manager._frame_metrics[key]['delta_edges'])\n",
    "            delta_lums.append(stats_manager._frame_metrics[key]['delta_lum'])\n",
    "        de_mean = np.mean(delta_edges)\n",
    "        de_std = np.std(delta_edges)\n",
    "        dl_mean = np.mean(delta_lums)\n",
    "        dl_std = np.std(delta_lums)\n",
    "        de_upper_bound = max(de_mean + 4.7 * de_std, 3.* de_mean)\n",
    "        dl_upper_bound = max(dl_mean + 5* dl_std, 3.* dl_mean)\n",
    "        total_cut_de = np.sum(np.array(delta_edges) > de_upper_bound )\n",
    "        total_cut_dl = np.sum(np.array(delta_lums) > dl_upper_bound   )\n",
    "        results_list['mp4'].append(mp4_file)\n",
    "        results_list['de_mean'].append(round(de_mean,2))\n",
    "        results_list['dl_mean'].append(round(dl_mean,2))\n",
    "        results_list['de_std'].append(round(de_std,2))\n",
    "        results_list['dl_std'].append(round(dl_std,2))\n",
    "        print(mp4_file,round(de_mean,2),round(de_std,2),round(de_upper_bound,2),round(np.max(delta_edges),2),'\\t',round(dl_mean,2),round(dl_std,2),round(dl_upper_bound),round(np.max(delta_lums),2))\n",
    "        if dl_mean < .5 and dl_std < 0.5 :\n",
    "            static_list.append(mp4_file)\n",
    "        elif de_mean < 0.6 and de_std < 0.6:\n",
    "            static_list.append(mp4_file)\n",
    "        if total_cut_de> 0 or total_cut_dl >0 or (dl_mean > 9 and dl_std>9) :\n",
    "            cut_list.append(mp4_file)\n",
    "        stats_manager.save_to_csv(f'./mp4_file/{mp4_file}.csv')\n",
    "        # print(mp4_file,total_cut>0)\n",
    "        # if mp4_file =='4.6.mp4':\n",
    "        #     break\n",
    "        # [3.99,4.03,4.12,4.27,4.53,4.8,4.81,4.97,5.07]\n",
    "# 15 ['3.72.mp4', '3.83.mp4',  '4.37.mp4', '4.6.mp4',  '4.83.mp4', '4.86.mp4']\n",
    "print(len(cut_list),cut_list)"
   ]
  },
  {
   "cell_type": "code",
   "execution_count": 73,
   "id": "03007c47-fa09-4406-88f6-2e4ad6e82635",
   "metadata": {
    "scrolled": true
   },
   "outputs": [],
   "source": [
    "cut_=set(['1179HKeCzdM_0.mp4', '1179HKeCzdM_1.mp4', '117hrav2N3E_0.mp4','11DFBNgL5lc_0.mp4','11I5Qvkl3CQ_0.mp4',\n",
    "      '11Lw4XsJ-iQ_0.mp4','11Lw4XsJ-iQ_2.mp4','11BGn_PzXz8_0.mp4','11HjRq-A3ow_2.mp4','11NM_Obu9yw_1.mp4',\n",
    "      '11YUkJCf6_w_1.mp4','11fLImeUZ2w_2.mp4', '11igmz4iZrg_2.mp4','11jK-vunBW4_0.mp4','11ogjdyiMwQ_2.mp4',\n",
    "     '11uM9TnvFmA_0.mp4', '11uM9TnvFmA_1.mp4','11bnBlhjw9Y_1.mp4','11VlmfAJEyY_0.mp4','11xJjSP9psQ_2.mp4',\n",
    "         '11bnBlhjw9Y_0.mp4'])\n",
    "nocut_=set(['11DFBNgL5lc_1.mp4','11GLHBfciaA_2.mp4','11HXe7pymh8_2.mp4',\n",
    " '11I5Qvkl3CQ_1.mp4','114iopCPWKk_0.mp4','11508ex1Xxg_0.mp4','11DFBNgL5lc_2.mp4','11GLHBfciaA_2.mp4',\n",
    "       '11HXe7pymh8_0.mp4', '11HXe7pymh8_1.mp4','11HjRq-A3ow_1.mp4','11I5Qvkl3CQ_1.mp4',])\n",
    "\n",
    " "
   ]
  },
  {
   "cell_type": "code",
   "execution_count": 81,
   "id": "b6afe8de-c0b2-4b9f-83dc-e75ab0718ccd",
   "metadata": {},
   "outputs": [
    {
     "data": {
      "text/plain": [
       "['22GRZ7ih-mQ_2.mp4', '22Nc43oY0Ng_2.mp4', '22pBN04LBz4_2.mp4']"
      ]
     },
     "execution_count": 81,
     "metadata": {},
     "output_type": "execute_result"
    }
   ],
   "source": [
    "static_list"
   ]
  },
  {
   "cell_type": "code",
   "execution_count": 75,
   "id": "4d02c431-77e5-4278-9ab9-2e47cea42ccc",
   "metadata": {},
   "outputs": [
    {
     "data": {
      "text/plain": [
       "{'114iopCPWKk_0.mp4',\n",
       " '11DFBNgL5lc_2.mp4',\n",
       " '11GLHBfciaA_2.mp4',\n",
       " '11HXe7pymh8_0.mp4',\n",
       " '11HXe7pymh8_1.mp4',\n",
       " '11HXe7pymh8_2.mp4',\n",
       " '11HjRq-A3ow_1.mp4',\n",
       " '11YUkJCf6_w_2.mp4',\n",
       " '11fLImeUZ2w_0.mp4',\n",
       " '11fLImeUZ2w_1.mp4',\n",
       " '11igmz4iZrg_1.mp4',\n",
       " '11mhs3qdQk0_2.mp4',\n",
       " '11ssCPxWDaY_2.mp4',\n",
       " '11vajpsGDMc_1.mp4'}"
      ]
     },
     "execution_count": 75,
     "metadata": {},
     "output_type": "execute_result"
    }
   ],
   "source": [
    "set(results_list['mp4'])- set(static_list) - set(cut_list)"
   ]
  },
  {
   "cell_type": "code",
   "execution_count": 67,
   "id": "dcbac315-cb65-41bb-86c7-cbf67f25a9d6",
   "metadata": {},
   "outputs": [
    {
     "name": "stdout",
     "output_type": "stream",
     "text": [
      "cut: 21/21\n",
      "11I5Qvkl3CQ_1.mp4\n",
      "11DFBNgL5lc_1.mp4\n",
      "correct no cut: 8/10\n"
     ]
    }
   ],
   "source": [
    "cut_cnt=0\n",
    "no_cut_cnt = 0\n",
    "len_nocut = len(nocut_)\n",
    "len_cut = len(cut_)\n",
    "for cut_mp4 in cut_:\n",
    "    if cut_mp4 in cut_list:\n",
    "        cut_cnt+=1\n",
    "print(f'cut: {cut_cnt}/{len_cut}')\n",
    "\n",
    "for no_cut_mp4 in nocut_:\n",
    "    if no_cut_mp4 in cut_list:\n",
    "        no_cut_cnt+=1\n",
    "        print(no_cut_mp4)\n",
    "print(f'correct no cut: {len_nocut-no_cut_cnt}/{len_nocut}')"
   ]
  },
  {
   "cell_type": "code",
   "execution_count": 13,
   "id": "f66697a3-b193-4a50-aec2-3de820a4e489",
   "metadata": {},
   "outputs": [
    {
     "name": "stdout",
     "output_type": "stream",
     "text": [
      "[61.66, 38.847722996346846]\n",
      "0 []\n"
     ]
    }
   ],
   "source": [
    "import os\n",
    "# root_path = '/home/guangyi.liu/world_model/ipynb/panda_samples_aes'  # for cut-video\n",
    "# root_path = '/home/guangyi.liu/world_model/ipynb/panda_samples_aes/cut'  # for non-cut video\n",
    "# root_path = '/home/guangyi.liu/world_model/ipynb/panda_samples_aes/noncut'  # for non-cut video\n",
    "# root_path = '/home/guangyi.liu/shared-folder/datasets/guangyi_data/scripts/panda70m/samples_fewer'\n",
    "# root_path = '/home/guangyi.liu/repo/video_process/mp4_file'\n",
    "root_path ='/home/guangyi.liu/shared-folder/datasets/guangyi_data/MiraData'\n",
    "files = os.listdir(root_path)\n",
    "files.sort()\n",
    "cut_list = []\n",
    "static_list =[]\n",
    "# results_list = {'mp4':[],'de_mean':[],'de_std':[],'dl_mean':[],'dl_std':[]}\n",
    "for mp4_file in files:\n",
    "    if '.mp4' in mp4_file[-4:]:\n",
    "        # print(mp4_file)\n",
    "        mp4file = os.path.join(root_path, mp4_file)\n",
    "        video = open_video(mp4file)\n",
    "        video.seek(1)\n",
    "        stats_manager = StatsManager()\n",
    "        scene_manager = SceneManager(stats_manager)\n",
    "        # scene_manager.auto_downscale=True\n",
    "        # scene_manager.downscale = 1\n",
    "        scene_manager.add_detector(MyDetector1(threshold=[61.66, 38.847722996346846]))\n",
    "        \n",
    "        scene_manager.detect_scenes(video=video)\n",
    "        stats_manager._frame_metrics\n",
    "        frame_keys = stats_manager._frame_metrics.keys()\n",
    "        # delta_edges = []\n",
    "        # delta_lums = []\n",
    "        # for key in frame_keys:\n",
    "        #     delta_edges.append(stats_manager._frame_metrics[key]['delta_edges'])\n",
    "        #     delta_lums.append(stats_manager._frame_metrics[key]['delta_lum'])\n",
    "        # de_mean = np.mean(delta_edges)\n",
    "        # de_std = np.std(delta_edges)\n",
    "        # dl_mean = np.mean(delta_lums)\n",
    "        # dl_std = np.std(delta_lums)\n",
    "        # de_upper_bound = max(de_mean + 5.5 * de_std, 3* de_mean)\n",
    "        # dl_upper_bound = max(dl_mean + 5.5* dl_std, 3* dl_mean)\n",
    "        # total_cut_de = np.sum(np.array(delta_edges) > de_upper_bound )\n",
    "        # total_cut_dl = np.sum(np.array(delta_lums) > dl_upper_bound   )\n",
    "        # results_list['mp4'].append(mp4_file)\n",
    "        # results_list['de_mean'].append(round(de_mean,2))\n",
    "        # results_list['dl_mean'].append(round(dl_mean,2))\n",
    "        # results_list['de_std'].append(round(de_std,2))\n",
    "        # results_list['dl_std'].append(round(dl_std,2))\n",
    "        # print(mp4_file,round(de_mean,2),round(de_std,2),de_upper_bound,round(np.max(delta_edges),2),'\\t',round(dl_mean,2),round(dl_std,2),dl_upper_bound,round(np.max(delta_lums),2))\n",
    "        # if dl_mean < 0.7 and dl_std < 0.3:\n",
    "        #     static_list.append(mp4_file)\n",
    "        # elif de_mean < 1.5 and de_std < 1.5:\n",
    "        #     static_list.append(mp4_file)\n",
    "        # if total_cut_de> 0 or total_cut_dl >0:\n",
    "        #     cut_list.append(mp4_file)\n",
    "        # stats_manager.save_to_csv(f'./mp4_file/{mp4_file}.csv')\n",
    "        # print(mp4_file,total_cut>0)\n",
    "        # if mp4_file =='4.6.mp4':\n",
    "        #     break\n",
    "        # [3.99,4.03,4.12,4.27,4.53,4.8,4.81,4.97,5.07]\n",
    "# 15 ['3.72.mp4', '3.83.mp4',  '4.37.mp4', '4.6.mp4',  '4.83.mp4', '4.86.mp4']\n",
    "print(len(cut_list),cut_list)"
   ]
  },
  {
   "cell_type": "code",
   "execution_count": 14,
   "id": "b2289650-1492-40be-b5b5-afb21140b6f9",
   "metadata": {},
   "outputs": [],
   "source": [
    "scene_list = scene_manager.get_scene_list()"
   ]
  },
  {
   "cell_type": "code",
   "execution_count": 24,
   "id": "fc097eb6-2578-409a-8e13-d0613be23a5a",
   "metadata": {
    "tags": []
   },
   "outputs": [
    {
     "data": {
      "text/plain": [
       "00:00:00.033 [frame=1, fps=29.970]"
      ]
     },
     "execution_count": 24,
     "metadata": {},
     "output_type": "execute_result"
    }
   ],
   "source": [
    "scene_list[0][0]"
   ]
  },
  {
   "cell_type": "code",
   "execution_count": 14,
   "id": "c1102856-7230-432c-9194-6a3462226e26",
   "metadata": {},
   "outputs": [],
   "source": [
    "cut_flag = (np.array(delta_edges) > de_upper_bound) | (np.array(delta_lums) > dl_upper_bound)\n",
    "cut_pos = []\n",
    "for i in range(len(cut_flag)):\n",
    "    if cut_flag[i]:\n",
    "        cut_pos.append(i)"
   ]
  },
  {
   "cell_type": "code",
   "execution_count": 76,
   "id": "aafd187e-ce3d-4653-971d-0397f333c7b4",
   "metadata": {},
   "outputs": [
    {
     "name": "stdout",
     "output_type": "stream",
     "text": [
      "skip\n",
      "skip\n",
      "skip\n",
      "skip\n",
      "skip\n",
      "skip\n",
      "skip\n",
      "skip\n",
      "skip\n"
     ]
    }
   ],
   "source": [
    "from datetime import datetime,timedelta\n",
    "skip_duration = timedelta(seconds=0.5)\n",
    "start_skip = timedelta(seconds=1.5)\n",
    "video_name = 'test_new'\n",
    "time_format = '%H:%M:%S.%f'\n",
    "for i, timecode_ in enumerate(scene_list):\n",
    "    timecode = [None,None]\n",
    "    timecode[0] = timecode_[0].get_timecode()\n",
    "    timecode[1] = timecode_[1].get_timecode()\n",
    "    if i == 0:\n",
    "        start_time = datetime.strptime(timecode[0], time_format) + skip_duration + start_skip\n",
    "    else:\n",
    "        start_time = datetime.strptime(timecode[0], time_format) + skip_duration\n",
    "    end_time = datetime.strptime(timecode[1], time_format) - skip_duration\n",
    "    timecode[0] = start_time.strftime(time_format)\n",
    "    video_duration = (end_time - start_time).total_seconds()\n",
    "    if video_duration < 2:\n",
    "        print('skip')\n",
    "        continue\n",
    "    os.system(\"ffmpeg -hide_banner -loglevel panic -ss %s -t %.3f -i %s %s\"%(timecode[0], video_duration, video_path, os.path.join('mp4_file', video_name+\".%i.mp4\"%i)))\n"
   ]
  },
  {
   "cell_type": "code",
   "execution_count": 61,
   "id": "2cdc6c38-271d-49ea-8826-8bf6199c9880",
   "metadata": {
    "tags": []
   },
   "outputs": [],
   "source": [
    "test= datetime.strptime(timecode[0], '%H:%M:%S.%f') + skip_duration"
   ]
  },
  {
   "cell_type": "code",
   "execution_count": 71,
   "id": "c36ae2b0-54b1-49ad-bd4d-3699a955d456",
   "metadata": {},
   "outputs": [],
   "source": [
    "time_format = '%H:%M:%S.%f'"
   ]
  },
  {
   "cell_type": "code",
   "execution_count": 72,
   "id": "578a7a22-47a5-4cd2-9459-282d7f12e68f",
   "metadata": {},
   "outputs": [
    {
     "data": {
      "text/plain": [
       "'01:02:20.040020'"
      ]
     },
     "execution_count": 72,
     "metadata": {},
     "output_type": "execute_result"
    }
   ],
   "source": [
    "test.strftime(time_format)"
   ]
  },
  {
   "cell_type": "code",
   "execution_count": 53,
   "id": "ba7a1323-787a-4a3c-bd19-bc7ed29846f9",
   "metadata": {},
   "outputs": [
    {
     "data": {
      "text/plain": [
       "datetime.timedelta(microseconds=20)"
      ]
     },
     "execution_count": 53,
     "metadata": {},
     "output_type": "execute_result"
    }
   ],
   "source": [
    "one_second"
   ]
  },
  {
   "cell_type": "code",
   "execution_count": 38,
   "id": "27ed3690-1f8c-4bde-800d-f084435dbf4f",
   "metadata": {},
   "outputs": [
    {
     "data": {
      "text/plain": [
       "[28.457845052083332]"
      ]
     },
     "execution_count": 38,
     "metadata": {},
     "output_type": "execute_result"
    }
   ],
   "source": [
    "stats_manager.get_metrics(2,['delta_edges'])"
   ]
  },
  {
   "cell_type": "code",
   "execution_count": 51,
   "id": "3ba0e0ee-d50b-45f9-8359-9b050bf4973f",
   "metadata": {},
   "outputs": [
    {
     "data": {
      "text/plain": [
       "79.91106163101028"
      ]
     },
     "execution_count": 51,
     "metadata": {},
     "output_type": "execute_result"
    }
   ],
   "source": [
    "dl_mean + 5.5 * dl_std"
   ]
  },
  {
   "cell_type": "code",
   "execution_count": 41,
   "id": "ffc879bf-3e5a-4b7c-a4cf-7ee4d0e993bd",
   "metadata": {},
   "outputs": [
    {
     "data": {
      "text/plain": [
       "['4.12.mp4', '4.5.mp4', '4.76.mp4', '4.77.mp4', '5.27.mp4']"
      ]
     },
     "execution_count": 41,
     "metadata": {},
     "output_type": "execute_result"
    }
   ],
   "source": [
    "stats_manager.save_to_csv("
   ]
  },
  {
   "cell_type": "code",
   "execution_count": 32,
   "id": "611b6878-1abe-45d7-a447-8ad0b7537b87",
   "metadata": {},
   "outputs": [
    {
     "name": "stdout",
     "output_type": "stream",
     "text": [
      "4.12.mp4 0.23 1.14\n",
      "4.5.mp4 1.29 1.03\n",
      "4.76.mp4 1.35 0.41\n",
      "4.77.mp4 1.04 0.86\n"
     ]
    }
   ],
   "source": [
    "for i in range(len(results_list['mp4'])):\n",
    "    if results_list['de_mean'][i] < 1.5:\n",
    "        print(results_list['mp4'][i], results_list['de_mean'][i],results_list['de_std'][i])"
   ]
  },
  {
   "cell_type": "code",
   "execution_count": 31,
   "id": "959e15d7-dea0-4816-bd4d-6e2158df2aef",
   "metadata": {},
   "outputs": [
    {
     "name": "stdout",
     "output_type": "stream",
     "text": [
      "4.12.mp4 0.06 0.31\n",
      "4.5.mp4 0.29 0.24\n",
      "4.6.mp4 0.67 1.23\n",
      "4.76.mp4 0.58 0.18\n",
      "4.77.mp4 0.14 0.04\n",
      "4.83.mp4 0.65 0.45\n",
      "5.27.mp4 0.55 0.19\n"
     ]
    }
   ],
   "source": [
    "for i in range(len(results_list['mp4'])):\n",
    "    if results_list['dl_mean'][i] < 1.:\n",
    "        print(results_list['mp4'][i], results_list['dl_mean'][i],results_list['dl_std'][i] )"
   ]
  },
  {
   "cell_type": "code",
   "execution_count": 35,
   "id": "224c0e1a-735c-411a-9426-534db2cbf312",
   "metadata": {},
   "outputs": [
    {
     "name": "stdout",
     "output_type": "stream",
     "text": [
      "4.5.mp4 0.29 0.24\n",
      "4.76.mp4 0.58 0.18\n",
      "4.77.mp4 0.14 0.04\n",
      "4.83.mp4 0.65 0.45\n",
      "5.27.mp4 0.55 0.19\n"
     ]
    }
   ],
   "source": [
    "for i in range(len(results_list['mp4'])):\n",
    "    if results_list['dl_mean'][i] > results_list['dl_std'][i] and results_list['dl_mean'][i] < 1.:\n",
    "        print(results_list['mp4'][i], results_list['dl_mean'][i],results_list['dl_std'][i] )"
   ]
  },
  {
   "cell_type": "code",
   "execution_count": 27,
   "id": "47035285-efba-4924-ab6e-a5053c1bfba0",
   "metadata": {},
   "outputs": [
    {
     "data": {
      "text/plain": [
       "0.55"
      ]
     },
     "execution_count": 27,
     "metadata": {},
     "output_type": "execute_result"
    }
   ],
   "source": [
    "results_list['dl_mean'][-1]"
   ]
  },
  {
   "cell_type": "code",
   "execution_count": 2,
   "id": "eed8c1b2-84d9-4d69-ac0e-bac128342bf1",
   "metadata": {},
   "outputs": [
    {
     "name": "stderr",
     "output_type": "stream",
     "text": [
      "/home/guangyi.liu/.conda/envs/llava/lib/python3.10/site-packages/tqdm/auto.py:21: TqdmWarning: IProgress not found. Please update jupyter and ipywidgets. See https://ipywidgets.readthedocs.io/en/stable/user_install.html\n",
      "  from .autonotebook import tqdm as notebook_tqdm\n"
     ]
    }
   ],
   "source": [
    "from scenedetect import detect, ContentDetector,open_video,StatsManager,SceneManager\n",
    "import numpy as np\n",
    "def detect_cut(mp4file):\n",
    "    video = open_video(mp4file)\n",
    "    video.seek(1) #  the first frame may give large delta_edge value, start from the second frame\n",
    "    stats_manager = StatsManager()\n",
    "    scene_manager = SceneManager(stats_manager)\n",
    "    scene_manager.add_detector(ContentDetector())\n",
    "    scene_manager.detect_scenes(video=video)\n",
    "    frame_keys = stats_manager._frame_metrics.keys()  # read metrics\n",
    "    delta_edges = []\n",
    "    delta_lums = []\n",
    "    for key in frame_keys:\n",
    "        delta_edges.append(stats_manager._frame_metrics[key]['delta_edges'])\n",
    "        delta_lums.append(stats_manager._frame_metrics[key]['delta_lum'])\n",
    "    de_mean = np.mean(delta_edges)\n",
    "    de_std = np.std(delta_edges)\n",
    "    dl_mean = np.mean(delta_lums)\n",
    "    dl_std = np.std(delta_lums)\n",
    "    de_upper_bound = max(de_mean + 5.5 * de_std, 3* de_mean)\n",
    "    dl_upper_bound = max(dl_mean + 5.5 * dl_std, 3* dl_mean)\n",
    "    total_cut_de = np.sum(np.array(delta_edges) > de_upper_bound )\n",
    "    total_cut_dl = np.sum(np.array(delta_lums) > dl_upper_bound )\n",
    "    return total_cut_de> 0 or total_cut_dl >0 # if True, there is a cut, ignore this sample"
   ]
  },
  {
   "cell_type": "code",
   "execution_count": 10,
   "id": "73642ed0-a6ed-45d4-9f2f-087307c5134e",
   "metadata": {},
   "outputs": [
    {
     "name": "stderr",
     "output_type": "stream",
     "text": [
      "100%|████████████████████████████████████████████████████████████████████████████████████████████████████████████████████████████████████████████████████████████████████████████████████████████████████████████████████████████████████████████████████████| 550/550 [03:43<00:00,  2.46it/s]"
     ]
    },
    {
     "name": "stdout",
     "output_type": "stream",
     "text": [
      "223.59946084022522\n"
     ]
    },
    {
     "name": "stderr",
     "output_type": "stream",
     "text": [
      "\n"
     ]
    }
   ],
   "source": [
    "import os\n",
    "# root_path = '/home/guangyi.liu/world_model/ipynb/panda_samples_aes'  # for cut-video\n",
    "# root_path = '/home/guangyi.liu/world_model/ipynb/panda_samples_aes/cut'  # for non-cut video\n",
    "# root_path = '/home/guangyi.liu/world_model/ipynb/panda_samples_aes/noncut'  # for non-cut video\n",
    "root_path = '/home/guangyi.liu/shared-folder/datasets/guangyi_data/kinetics-dataset/k600_targz/train/bobsledding'\n",
    "files = os.listdir(root_path)\n",
    "files.sort()\n",
    "cut_list = []\n",
    "import time\n",
    "start = time.time()\n",
    "from tqdm import tqdm\n",
    "out_list=[]\n",
    "for mp4_file in tqdm(files,total=len(files)):\n",
    "    if '.mp4' in mp4_file:\n",
    "        # print(mp4_file)\n",
    "        mp4file = os.path.join(root_path, mp4_file)\n",
    "        res = detect_cut(mp4file)\n",
    "        if res:\n",
    "            out_list.append(mp4_file)\n",
    "        #     print(mp4_file)\n",
    "\n",
    "print(time.time()-start)\n",
    "# [3.99,4.03,4.12,4.27,4.53,4.8,4.81,4.97,5.07]"
   ]
  },
  {
   "cell_type": "code",
   "execution_count": 4,
   "id": "80e03e74-72a3-4906-a86e-e63a991bcad3",
   "metadata": {},
   "outputs": [],
   "source": [
    "from streaming import StreamingDataset"
   ]
  },
  {
   "cell_type": "code",
   "execution_count": 11,
   "id": "39051500-1a38-4a9e-9e49-71d6fbb4fdbd",
   "metadata": {},
   "outputs": [
    {
     "name": "stdout",
     "output_type": "stream",
     "text": [
      "0.33454545454545453\n"
     ]
    }
   ],
   "source": [
    "print(len(out_list)/len(files))"
   ]
  },
  {
   "cell_type": "code",
   "execution_count": 5,
   "id": "02e24a85-61f3-4953-90be-18ef8f0c560b",
   "metadata": {},
   "outputs": [],
   "source": [
    "dataset = StreamingDataset(remote = '/home/guangyi.liu/shared-folder/datasets/panda70m_streaming_all_2s_10s_2xframe_ofm1.5_cutnum_aes4.75_forcaption_gpt_v3_cut')"
   ]
  },
  {
   "cell_type": "code",
   "execution_count": 6,
   "id": "c314d9a4-bf93-4f92-86a1-8eaba573ea08",
   "metadata": {},
   "outputs": [
    {
     "data": {
      "text/plain": [
       "627481"
      ]
     },
     "execution_count": 6,
     "metadata": {},
     "output_type": "execute_result"
    }
   ],
   "source": [
    "len(dataset)"
   ]
  },
  {
   "cell_type": "code",
   "execution_count": null,
   "id": "d0b93c18-ebea-4ba8-b3d7-e7ba1e44349d",
   "metadata": {},
   "outputs": [],
   "source": []
  }
 ],
 "metadata": {
  "kernelspec": {
   "display_name": "Python (lgy)",
   "language": "python",
   "name": "lgy"
  },
  "language_info": {
   "codemirror_mode": {
    "name": "ipython",
    "version": 3
   },
   "file_extension": ".py",
   "mimetype": "text/x-python",
   "name": "python",
   "nbconvert_exporter": "python",
   "pygments_lexer": "ipython3",
   "version": "3.10.12"
  }
 },
 "nbformat": 4,
 "nbformat_minor": 5
}
