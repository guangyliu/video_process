{
 "cells": [
  {
   "cell_type": "code",
   "execution_count": null,
   "id": "661cdae6-dc81-4502-a309-7f49ab4858be",
   "metadata": {},
   "outputs": [],
   "source": []
  }
 ],
 "metadata": {
  "kernelspec": {
   "display_name": "Python (lgy)",
   "language": "python",
   "name": "lgy"
  },
  "language_info": {
   "name": ""
  }
 },
 "nbformat": 4,
 "nbformat_minor": 5
}
